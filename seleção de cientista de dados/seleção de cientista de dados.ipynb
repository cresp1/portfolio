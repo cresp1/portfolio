{
 "cells": [
  {
   "cell_type": "markdown",
   "metadata": {},
   "source": [
    "# PONTIFÍCIA UNIVERSIDADE CATÓLICA\n",
    "Gabriel Crespi de Santana, RA: 00274413\n",
    "\n",
    "Kevin Egídio de Toledo, RA: 00282590\n",
    "\n",
    "Pedro Lucas Silva Ferreira, RA: 00285608\n",
    "\n",
    "# Projeto Integrado | Ciência de Dados e Inteligência Artificial"
   ]
  },
  {
   "cell_type": "markdown",
   "metadata": {},
   "source": [
    "## 1. Objetivo de Negócio\n",
    "Segundo o site da <a href=https://fia.com.br/blog/profissoes-do-futuro/>Fundação Instituto de Administração</a>, o cargo de Cientista de Dados está em destaque como profissão relevante para o futuro do mercado de trabalho. Há uma grande demanda por esses profissionais, entretanto, em termos relativos, há pouca mão de obra devidamente capacitada para exercer essa função. Assim, o processo de seleção de novos cientistas de dados e afins precisa ser cauteloso e detalhista, o que demanda tempo e dinheiro por parte da empresa contratante. Considerando isto, o objetivo de negócio deste projeto é utilizar de classificadores de machine learning para identificar os candidatos que realmente querem trabalhar em uma determinada organização (e não estão apenas buscando por outro emprego), minimizando tempo e custo do processo de seleção e treinamento de cientistas de dados."
   ]
  },
  {
   "cell_type": "markdown",
   "metadata": {},
   "source": [
    "## 2. Análise exploratória do dataset\n",
    "O dataset escolhido contém dados sobre candidatos que foram bem sucedidos em cursos promovidos por determinada organização. O intuito é saber (considerando dados demográficos, educacionais e de experiência) quais candidatos realmente querem trabalhar para a empresa e quais estão procurando por outro emprego, bem como quais fatores influenciam nessa escolha.\n",
    "### Descrição do dataset\n",
    "- enrollee_id : ID único por candidato\n",
    "\n",
    "- city: código da cidade\n",
    "\n",
    "- city_ development _index: índice de desenvolvimento da cidade\n",
    "\n",
    "- gender: gênero do candidato\n",
    "\n",
    "- relevent_experience: experiência relevante\n",
    "\n",
    "- enrolled_university: Tipo de curso universitário matriculado, se houver\n",
    "\n",
    "- education_level: Nível de escolaridade do candidato\n",
    "\n",
    "- major_discipline: Disciplina principal de educação do candidato\n",
    "\n",
    "- experience: Experiência total do candidato em anos\n",
    "\n",
    "- company_size: Nº de funcionários na empresa do empregador atual\n",
    "\n",
    "- company_type: Tipo de empregador atual\n",
    "\n",
    "- lastnewjob: Diferença em anos entre o emprego anterior e o emprego atual\n",
    "\n",
    "- training_hours: horas de treinamento completadas\n",
    "\n",
    "- target: 0 – Não está procurando por mudança de emprego, 1 – Está procurando por mudança de emprego\n",
    "\n",
    "Disponível em: https://www.kaggle.com/arashnic/hr-analytics-job-change-of-data-scientists?select=sample_submission.csv"
   ]
  },
  {
   "cell_type": "code",
   "execution_count": 1,
   "metadata": {},
   "outputs": [],
   "source": [
    "import pandas as pd\n",
    "import seaborn as sns"
   ]
  },
  {
   "cell_type": "code",
   "execution_count": 2,
   "metadata": {
    "scrolled": true
   },
   "outputs": [
    {
     "data": {
      "text/html": [
       "<div>\n",
       "<style scoped>\n",
       "    .dataframe tbody tr th:only-of-type {\n",
       "        vertical-align: middle;\n",
       "    }\n",
       "\n",
       "    .dataframe tbody tr th {\n",
       "        vertical-align: top;\n",
       "    }\n",
       "\n",
       "    .dataframe thead th {\n",
       "        text-align: right;\n",
       "    }\n",
       "</style>\n",
       "<table border=\"1\" class=\"dataframe\">\n",
       "  <thead>\n",
       "    <tr style=\"text-align: right;\">\n",
       "      <th></th>\n",
       "      <th>enrollee_id</th>\n",
       "      <th>city</th>\n",
       "      <th>city_development_index</th>\n",
       "      <th>gender</th>\n",
       "      <th>relevent_experience</th>\n",
       "      <th>enrolled_university</th>\n",
       "      <th>education_level</th>\n",
       "      <th>major_discipline</th>\n",
       "      <th>experience</th>\n",
       "      <th>company_size</th>\n",
       "      <th>company_type</th>\n",
       "      <th>last_new_job</th>\n",
       "      <th>training_hours</th>\n",
       "      <th>target</th>\n",
       "    </tr>\n",
       "  </thead>\n",
       "  <tbody>\n",
       "    <tr>\n",
       "      <th>0</th>\n",
       "      <td>8949</td>\n",
       "      <td>city_103</td>\n",
       "      <td>0.920</td>\n",
       "      <td>Male</td>\n",
       "      <td>Has relevent experience</td>\n",
       "      <td>no_enrollment</td>\n",
       "      <td>Graduate</td>\n",
       "      <td>STEM</td>\n",
       "      <td>&gt;20</td>\n",
       "      <td>NaN</td>\n",
       "      <td>NaN</td>\n",
       "      <td>1</td>\n",
       "      <td>36</td>\n",
       "      <td>1.0</td>\n",
       "    </tr>\n",
       "    <tr>\n",
       "      <th>1</th>\n",
       "      <td>29725</td>\n",
       "      <td>city_40</td>\n",
       "      <td>0.776</td>\n",
       "      <td>Male</td>\n",
       "      <td>No relevent experience</td>\n",
       "      <td>no_enrollment</td>\n",
       "      <td>Graduate</td>\n",
       "      <td>STEM</td>\n",
       "      <td>15</td>\n",
       "      <td>50-99</td>\n",
       "      <td>Pvt Ltd</td>\n",
       "      <td>&gt;4</td>\n",
       "      <td>47</td>\n",
       "      <td>0.0</td>\n",
       "    </tr>\n",
       "    <tr>\n",
       "      <th>2</th>\n",
       "      <td>11561</td>\n",
       "      <td>city_21</td>\n",
       "      <td>0.624</td>\n",
       "      <td>NaN</td>\n",
       "      <td>No relevent experience</td>\n",
       "      <td>Full time course</td>\n",
       "      <td>Graduate</td>\n",
       "      <td>STEM</td>\n",
       "      <td>5</td>\n",
       "      <td>NaN</td>\n",
       "      <td>NaN</td>\n",
       "      <td>never</td>\n",
       "      <td>83</td>\n",
       "      <td>0.0</td>\n",
       "    </tr>\n",
       "    <tr>\n",
       "      <th>3</th>\n",
       "      <td>33241</td>\n",
       "      <td>city_115</td>\n",
       "      <td>0.789</td>\n",
       "      <td>NaN</td>\n",
       "      <td>No relevent experience</td>\n",
       "      <td>NaN</td>\n",
       "      <td>Graduate</td>\n",
       "      <td>Business Degree</td>\n",
       "      <td>&lt;1</td>\n",
       "      <td>NaN</td>\n",
       "      <td>Pvt Ltd</td>\n",
       "      <td>never</td>\n",
       "      <td>52</td>\n",
       "      <td>1.0</td>\n",
       "    </tr>\n",
       "    <tr>\n",
       "      <th>4</th>\n",
       "      <td>666</td>\n",
       "      <td>city_162</td>\n",
       "      <td>0.767</td>\n",
       "      <td>Male</td>\n",
       "      <td>Has relevent experience</td>\n",
       "      <td>no_enrollment</td>\n",
       "      <td>Masters</td>\n",
       "      <td>STEM</td>\n",
       "      <td>&gt;20</td>\n",
       "      <td>50-99</td>\n",
       "      <td>Funded Startup</td>\n",
       "      <td>4</td>\n",
       "      <td>8</td>\n",
       "      <td>0.0</td>\n",
       "    </tr>\n",
       "  </tbody>\n",
       "</table>\n",
       "</div>"
      ],
      "text/plain": [
       "   enrollee_id      city  city_development_index gender  \\\n",
       "0         8949  city_103                   0.920   Male   \n",
       "1        29725   city_40                   0.776   Male   \n",
       "2        11561   city_21                   0.624    NaN   \n",
       "3        33241  city_115                   0.789    NaN   \n",
       "4          666  city_162                   0.767   Male   \n",
       "\n",
       "       relevent_experience enrolled_university education_level  \\\n",
       "0  Has relevent experience       no_enrollment        Graduate   \n",
       "1   No relevent experience       no_enrollment        Graduate   \n",
       "2   No relevent experience    Full time course        Graduate   \n",
       "3   No relevent experience                 NaN        Graduate   \n",
       "4  Has relevent experience       no_enrollment         Masters   \n",
       "\n",
       "  major_discipline experience company_size    company_type last_new_job  \\\n",
       "0             STEM        >20          NaN             NaN            1   \n",
       "1             STEM         15        50-99         Pvt Ltd           >4   \n",
       "2             STEM          5          NaN             NaN        never   \n",
       "3  Business Degree         <1          NaN         Pvt Ltd        never   \n",
       "4             STEM        >20        50-99  Funded Startup            4   \n",
       "\n",
       "   training_hours  target  \n",
       "0              36     1.0  \n",
       "1              47     0.0  \n",
       "2              83     0.0  \n",
       "3              52     1.0  \n",
       "4               8     0.0  "
      ]
     },
     "execution_count": 2,
     "metadata": {},
     "output_type": "execute_result"
    }
   ],
   "source": [
    "df = pd.read_csv('jobchange.csv', sep=';')\n",
    "df.head()"
   ]
  },
  {
   "cell_type": "code",
   "execution_count": 3,
   "metadata": {},
   "outputs": [
    {
     "data": {
      "text/plain": [
       "<AxesSubplot:xlabel='gender', ylabel='count'>"
      ]
     },
     "execution_count": 3,
     "metadata": {},
     "output_type": "execute_result"
    },
    {
     "data": {
      "image/png": "[encoded data removed]",
      "text/plain": [
       "<Figure size 432x288 with 1 Axes>"
      ]
     },
     "metadata": {
      "needs_background": "light"
     },
     "output_type": "display_data"
    }
   ],
   "source": [
    "# gênero dos candidatos\n",
    "sns.countplot(x=df['gender'].dropna())"
   ]
  },
  {
   "cell_type": "code",
   "execution_count": 4,
   "metadata": {},
   "outputs": [
    {
     "data": {
      "text/plain": [
       "<AxesSubplot:xlabel='relevent_experience', ylabel='count'>"
      ]
     },
     "execution_count": 4,
     "metadata": {},
     "output_type": "execute_result"
    },
    {
     "data": {
      "image/png": "[encoded data removed]",
      "text/plain": [
       "<Figure size 432x288 with 1 Axes>"
      ]
     },
     "metadata": {
      "needs_background": "light"
     },
     "output_type": "display_data"
    }
   ],
   "source": [
    "# experiência relevante dos candidatos\n",
    "sns.countplot(x=df['relevent_experience'])"
   ]
  },
  {
   "cell_type": "code",
   "execution_count": 5,
   "metadata": {},
   "outputs": [
    {
     "data": {
      "text/plain": [
       "<AxesSubplot:xlabel='count', ylabel='experience'>"
      ]
     },
     "execution_count": 5,
     "metadata": {},
     "output_type": "execute_result"
    },
    {
     "data": {
      "image/png": "[encoded data removed]",
      "text/plain": [
       "<Figure size 432x288 with 1 Axes>"
      ]
     },
     "metadata": {
      "needs_background": "light"
     },
     "output_type": "display_data"
    }
   ],
   "source": [
    "# tempo de experiência dos candidatos\n",
    "order = ['<1', '1', '2', '3', '4', '5', '6', '7', '8', '9', '10',\n",
    " '11', '12', '13', '14', '15', '16', '17', '18', '19', '20', '>20']\n",
    "\n",
    "sns.countplot(y=df['experience'].sort_values(), order=order)"
   ]
  },
  {
   "cell_type": "code",
   "execution_count": 6,
   "metadata": {},
   "outputs": [],
   "source": [
    "city = ['enrollee_id', 'city', 'city_development_index']\n",
    "schooling = ['enrollee_id', 'enrolled_university', 'education_level', 'major_discipline']\n",
    "experience = ['enrollee_id', 'experience', 'company_size', 'company_type', 'last_new_job', 'training_hours']\n"
   ]
  },
  {
   "cell_type": "code",
   "execution_count": 7,
   "metadata": {},
   "outputs": [],
   "source": [
    "df_city = df.filter(items=city)\n",
    "# df_city.head()"
   ]
  },
  {
   "cell_type": "code",
   "execution_count": 8,
   "metadata": {},
   "outputs": [],
   "source": [
    "df_schooling = df.filter(items=schooling)\n",
    "# df_schooling.head()"
   ]
  },
  {
   "cell_type": "code",
   "execution_count": 9,
   "metadata": {},
   "outputs": [],
   "source": [
    "educationXdiscipline = df_schooling.groupby(['education_level', 'major_discipline']).count()"
   ]
  },
  {
   "cell_type": "code",
   "execution_count": 10,
   "metadata": {},
   "outputs": [
    {
     "data": {
      "text/html": [
       "<div>\n",
       "<style scoped>\n",
       "    .dataframe tbody tr th:only-of-type {\n",
       "        vertical-align: middle;\n",
       "    }\n",
       "\n",
       "    .dataframe tbody tr th {\n",
       "        vertical-align: top;\n",
       "    }\n",
       "\n",
       "    .dataframe thead th {\n",
       "        text-align: right;\n",
       "    }\n",
       "</style>\n",
       "<table border=\"1\" class=\"dataframe\">\n",
       "  <thead>\n",
       "    <tr style=\"text-align: right;\">\n",
       "      <th>major_discipline</th>\n",
       "      <th>Arts</th>\n",
       "      <th>Business Degree</th>\n",
       "      <th>Humanities</th>\n",
       "      <th>No Major</th>\n",
       "      <th>Other</th>\n",
       "      <th>STEM</th>\n",
       "    </tr>\n",
       "    <tr>\n",
       "      <th>education_level</th>\n",
       "      <th></th>\n",
       "      <th></th>\n",
       "      <th></th>\n",
       "      <th></th>\n",
       "      <th></th>\n",
       "      <th></th>\n",
       "    </tr>\n",
       "  </thead>\n",
       "  <tbody>\n",
       "    <tr>\n",
       "      <th>Graduate</th>\n",
       "      <td>208.0</td>\n",
       "      <td>238.0</td>\n",
       "      <td>420.0</td>\n",
       "      <td>194.0</td>\n",
       "      <td>272.0</td>\n",
       "      <td>10244.0</td>\n",
       "    </tr>\n",
       "    <tr>\n",
       "      <th>Masters</th>\n",
       "      <td>42.0</td>\n",
       "      <td>86.0</td>\n",
       "      <td>225.0</td>\n",
       "      <td>29.0</td>\n",
       "      <td>100.0</td>\n",
       "      <td>3873.0</td>\n",
       "    </tr>\n",
       "    <tr>\n",
       "      <th>Phd</th>\n",
       "      <td>3.0</td>\n",
       "      <td>3.0</td>\n",
       "      <td>24.0</td>\n",
       "      <td>0.0</td>\n",
       "      <td>9.0</td>\n",
       "      <td>375.0</td>\n",
       "    </tr>\n",
       "  </tbody>\n",
       "</table>\n",
       "</div>"
      ],
      "text/plain": [
       "major_discipline   Arts  Business Degree  Humanities  No Major  Other     STEM\n",
       "education_level                                                               \n",
       "Graduate          208.0            238.0       420.0     194.0  272.0  10244.0\n",
       "Masters            42.0             86.0       225.0      29.0  100.0   3873.0\n",
       "Phd                 3.0              3.0        24.0       0.0    9.0    375.0"
      ]
     },
     "execution_count": 10,
     "metadata": {},
     "output_type": "execute_result"
    }
   ],
   "source": [
    "# grau de escolaridade x disciplina principal\n",
    "educationXdiscipline = educationXdiscipline['enrollee_id'].unstack().fillna(0)\n",
    "educationXdiscipline"
   ]
  },
  {
   "cell_type": "markdown",
   "metadata": {},
   "source": [
    "<img src=\"graduacao.png\" />"
   ]
  },
  {
   "cell_type": "code",
   "execution_count": 11,
   "metadata": {},
   "outputs": [],
   "source": [
    "df_experience = df.filter(items=experience)\n",
    "# df_experience.head()"
   ]
  },
  {
   "cell_type": "markdown",
   "metadata": {},
   "source": [
    "### Transformando os dados para tipo numérico"
   ]
  },
  {
   "cell_type": "code",
   "execution_count": 12,
   "metadata": {},
   "outputs": [],
   "source": [
    "from sklearn.preprocessing import LabelEncoder\n",
    "le = LabelEncoder()"
   ]
  },
  {
   "cell_type": "code",
   "execution_count": 13,
   "metadata": {
    "scrolled": true
   },
   "outputs": [
    {
     "data": {
      "text/html": [
       "<div>\n",
       "<style scoped>\n",
       "    .dataframe tbody tr th:only-of-type {\n",
       "        vertical-align: middle;\n",
       "    }\n",
       "\n",
       "    .dataframe tbody tr th {\n",
       "        vertical-align: top;\n",
       "    }\n",
       "\n",
       "    .dataframe thead th {\n",
       "        text-align: right;\n",
       "    }\n",
       "</style>\n",
       "<table border=\"1\" class=\"dataframe\">\n",
       "  <thead>\n",
       "    <tr style=\"text-align: right;\">\n",
       "      <th></th>\n",
       "      <th>enrollee_id</th>\n",
       "      <th>city</th>\n",
       "      <th>city_development_index</th>\n",
       "      <th>gender</th>\n",
       "      <th>relevent_experience</th>\n",
       "      <th>enrolled_university</th>\n",
       "      <th>education_level</th>\n",
       "      <th>major_discipline</th>\n",
       "      <th>experience</th>\n",
       "      <th>company_size</th>\n",
       "      <th>company_type</th>\n",
       "      <th>last_new_job</th>\n",
       "      <th>training_hours</th>\n",
       "      <th>target</th>\n",
       "    </tr>\n",
       "  </thead>\n",
       "  <tbody>\n",
       "    <tr>\n",
       "      <th>0</th>\n",
       "      <td>5018</td>\n",
       "      <td>5</td>\n",
       "      <td>85</td>\n",
       "      <td>1</td>\n",
       "      <td>0</td>\n",
       "      <td>2</td>\n",
       "      <td>0</td>\n",
       "      <td>5</td>\n",
       "      <td>21</td>\n",
       "      <td>8</td>\n",
       "      <td>6</td>\n",
       "      <td>0</td>\n",
       "      <td>35</td>\n",
       "      <td>1</td>\n",
       "    </tr>\n",
       "    <tr>\n",
       "      <th>1</th>\n",
       "      <td>16986</td>\n",
       "      <td>77</td>\n",
       "      <td>48</td>\n",
       "      <td>1</td>\n",
       "      <td>1</td>\n",
       "      <td>2</td>\n",
       "      <td>0</td>\n",
       "      <td>5</td>\n",
       "      <td>6</td>\n",
       "      <td>3</td>\n",
       "      <td>5</td>\n",
       "      <td>4</td>\n",
       "      <td>46</td>\n",
       "      <td>0</td>\n",
       "    </tr>\n",
       "    <tr>\n",
       "      <th>2</th>\n",
       "      <td>6499</td>\n",
       "      <td>64</td>\n",
       "      <td>14</td>\n",
       "      <td>3</td>\n",
       "      <td>1</td>\n",
       "      <td>0</td>\n",
       "      <td>0</td>\n",
       "      <td>5</td>\n",
       "      <td>15</td>\n",
       "      <td>8</td>\n",
       "      <td>6</td>\n",
       "      <td>5</td>\n",
       "      <td>82</td>\n",
       "      <td>0</td>\n",
       "    </tr>\n",
       "    <tr>\n",
       "      <th>3</th>\n",
       "      <td>19067</td>\n",
       "      <td>14</td>\n",
       "      <td>52</td>\n",
       "      <td>3</td>\n",
       "      <td>1</td>\n",
       "      <td>3</td>\n",
       "      <td>0</td>\n",
       "      <td>1</td>\n",
       "      <td>20</td>\n",
       "      <td>8</td>\n",
       "      <td>5</td>\n",
       "      <td>5</td>\n",
       "      <td>51</td>\n",
       "      <td>1</td>\n",
       "    </tr>\n",
       "    <tr>\n",
       "      <th>4</th>\n",
       "      <td>358</td>\n",
       "      <td>50</td>\n",
       "      <td>45</td>\n",
       "      <td>1</td>\n",
       "      <td>0</td>\n",
       "      <td>2</td>\n",
       "      <td>2</td>\n",
       "      <td>5</td>\n",
       "      <td>21</td>\n",
       "      <td>3</td>\n",
       "      <td>1</td>\n",
       "      <td>3</td>\n",
       "      <td>7</td>\n",
       "      <td>0</td>\n",
       "    </tr>\n",
       "  </tbody>\n",
       "</table>\n",
       "</div>"
      ],
      "text/plain": [
       "   enrollee_id  city  city_development_index  gender  relevent_experience  \\\n",
       "0         5018     5                      85       1                    0   \n",
       "1        16986    77                      48       1                    1   \n",
       "2         6499    64                      14       3                    1   \n",
       "3        19067    14                      52       3                    1   \n",
       "4          358    50                      45       1                    0   \n",
       "\n",
       "   enrolled_university  education_level  major_discipline  experience  \\\n",
       "0                    2                0                 5          21   \n",
       "1                    2                0                 5           6   \n",
       "2                    0                0                 5          15   \n",
       "3                    3                0                 1          20   \n",
       "4                    2                2                 5          21   \n",
       "\n",
       "   company_size  company_type  last_new_job  training_hours  target  \n",
       "0             8             6             0              35       1  \n",
       "1             3             5             4              46       0  \n",
       "2             8             6             5              82       0  \n",
       "3             8             5             5              51       1  \n",
       "4             3             1             3               7       0  "
      ]
     },
     "execution_count": 13,
     "metadata": {},
     "output_type": "execute_result"
    }
   ],
   "source": [
    "df_encoded = df.copy()\n",
    "\n",
    "for column in df_encoded.columns:\n",
    "    df_encoded[column] = le.fit_transform(df_encoded[column])\n",
    "    \n",
    "df_encoded.head()"
   ]
  },
  {
   "cell_type": "code",
   "execution_count": 14,
   "metadata": {},
   "outputs": [],
   "source": [
    "features = ['city', 'city_development_index',\n",
    "       'relevent_experience', 'enrolled_university', 'education_level',\n",
    "       'major_discipline', 'experience', 'company_size', 'company_type',\n",
    "       'last_new_job', 'training_hours']"
   ]
  },
  {
   "cell_type": "code",
   "execution_count": 15,
   "metadata": {},
   "outputs": [],
   "source": [
    "data_encoded = df_encoded[features].values\n",
    "target_encoded = df_encoded['target']"
   ]
  },
  {
   "cell_type": "code",
   "execution_count": 16,
   "metadata": {},
   "outputs": [],
   "source": [
    "# print(data)\n",
    "# print(target)"
   ]
  },
  {
   "cell_type": "markdown",
   "metadata": {},
   "source": [
    "### Padronizando os dados "
   ]
  },
  {
   "cell_type": "code",
   "execution_count": 17,
   "metadata": {},
   "outputs": [],
   "source": [
    "from sklearn.preprocessing import StandardScaler\n",
    "scaler = StandardScaler()\n",
    "data_std = scaler.fit_transform(data_encoded)\n",
    "target_std = scaler.fit_transform([target_encoded])"
   ]
  },
  {
   "cell_type": "markdown",
   "metadata": {},
   "source": [
    "## 3. Classificadores"
   ]
  },
  {
   "cell_type": "code",
   "execution_count": 18,
   "metadata": {},
   "outputs": [],
   "source": [
    "# divisor de dados em treino e teste\n",
    "from sklearn.model_selection import train_test_split"
   ]
  },
  {
   "cell_type": "code",
   "execution_count": 19,
   "metadata": {},
   "outputs": [],
   "source": [
    "X_train, X_test, y_train, y_test = train_test_split(data_encoded, target_encoded, test_size=0.3, random_state=18)"
   ]
  },
  {
   "cell_type": "markdown",
   "metadata": {},
   "source": [
    "### 3.1. Classificador KNN\n",
    "No caso de querer saber se um candidato específico realmente deseja trabalhar na determinada empresa, baseado em seus atributos, podemos usar o algoritmo KNN para prever o resultado:"
   ]
  },
  {
   "cell_type": "code",
   "execution_count": 20,
   "metadata": {},
   "outputs": [],
   "source": [
    "from sklearn.neighbors import NearestNeighbors\n",
    "from sklearn.neighbors import KNeighborsClassifier\n",
    "from sklearn.pipeline import Pipeline\n",
    "from sklearn.model_selection import GridSearchCV"
   ]
  },
  {
   "cell_type": "code",
   "execution_count": null,
   "metadata": {},
   "outputs": [],
   "source": [
    "# classificador knn\n",
    "knn = KNeighborsClassifier(n_neighbors=5, n_jobs=-1)\n",
    "\n",
    "pipe = Pipeline([(\"scaler\", scaler), (\"knn\", knn)])\n",
    "espaço_busca = [{\"knn__n_neighbors\": [n for n in range(1,50)]}]\n",
    "grid = GridSearchCV(pipe, espaço_busca, cv=6, verbose=0).fit(X_train, y_train)\n",
    "grid"
   ]
  },
  {
   "cell_type": "code",
   "execution_count": null,
   "metadata": {},
   "outputs": [],
   "source": [
    "# número ideal de vizinhos\n",
    "k_ideal = grid.best_estimator_.get_params()[\"knn__n_neighbors\"]\n",
    "k_ideal"
   ]
  },
  {
   "cell_type": "code",
   "execution_count": null,
   "metadata": {},
   "outputs": [],
   "source": [
    "# predizendo as observações\n",
    "classifier = KNeighborsClassifier(n_neighbors=k_ideal, metric=\"euclidean\")\n",
    "classifier.fit(X_test, y_test)\n",
    "y_pred = classifier.predict(X_test)\n",
    "y_pred"
   ]
  },
  {
   "cell_type": "markdown",
   "metadata": {},
   "source": [
    "#### Métricas de avaliação KNN"
   ]
  },
  {
   "cell_type": "code",
   "execution_count": null,
   "metadata": {},
   "outputs": [],
   "source": [
    "from sklearn.metrics import accuracy_score\n",
    "from sklearn.metrics import f1_score\n",
    "from sklearn.metrics import precision_score\n",
    "from sklearn.metrics import recall_score\n",
    "from sklearn.metrics import confusion_matrix"
   ]
  },
  {
   "cell_type": "code",
   "execution_count": null,
   "metadata": {},
   "outputs": [],
   "source": [
    "cm = confusion_matrix(y_test, y_pred)\n",
    "print(\"Confusion Matrix\\n\",cm)"
   ]
  },
  {
   "cell_type": "code",
   "execution_count": null,
   "metadata": {},
   "outputs": [],
   "source": [
    "print(\"F1 score:\", f1_score(y_test, y_pred, average='micro'))"
   ]
  },
  {
   "cell_type": "code",
   "execution_count": null,
   "metadata": {},
   "outputs": [],
   "source": [
    "print(\"Precision score:\", precision_score(y_test, y_pred, average='micro'))"
   ]
  },
  {
   "cell_type": "code",
   "execution_count": null,
   "metadata": {},
   "outputs": [],
   "source": [
    "print(\"Accuracy score:\", accuracy_score(y_test, y_pred))"
   ]
  },
  {
   "cell_type": "code",
   "execution_count": null,
   "metadata": {},
   "outputs": [],
   "source": [
    "print(\"Recall score:\", recall_score(y_test, y_pred))"
   ]
  },
  {
   "cell_type": "code",
   "execution_count": null,
   "metadata": {},
   "outputs": [],
   "source": [
    "# Score geral do modelo\n",
    "classifier.score(X_test, y_test)"
   ]
  },
  {
   "cell_type": "markdown",
   "metadata": {},
   "source": [
    "#### Persistindo o modelo"
   ]
  },
  {
   "cell_type": "code",
   "execution_count": null,
   "metadata": {},
   "outputs": [],
   "source": [
    "import joblib"
   ]
  },
  {
   "cell_type": "code",
   "execution_count": null,
   "metadata": {},
   "outputs": [],
   "source": [
    "with open('modelo_KNN', 'wb') as f: \n",
    "    joblib.dump(classifier, f)\n",
    "with open('modelo_KNN', 'rb') as f:  \n",
    "    modelo_knn = joblib.load(f)"
   ]
  },
  {
   "cell_type": "code",
   "execution_count": null,
   "metadata": {},
   "outputs": [],
   "source": [
    "modelo_knn.predict(X_test)"
   ]
  },
  {
   "cell_type": "markdown",
   "metadata": {},
   "source": [
    "### 3.2. Classificador de Regressão Linear\n",
    "Classificando a satisfação com o trabalho baseado no ano vigente"
   ]
  },
  {
   "cell_type": "code",
   "execution_count": null,
   "metadata": {},
   "outputs": [],
   "source": [
    "from sklearn.linear_model import LinearRegression"
   ]
  },
  {
   "cell_type": "code",
   "execution_count": null,
   "metadata": {},
   "outputs": [],
   "source": [
    "import pandas as pd\n",
    "df2 = pd.read_csv('processed_data_toDummies.csv')"
   ]
  },
  {
   "cell_type": "code",
   "execution_count": null,
   "metadata": {},
   "outputs": [],
   "source": [
    "df2.rename(columns={'Data scientist or machine learning specialist': 'DS_or_MLS', \n",
    "                    'Database administrator':'DBA', \n",
    "                    'Data or business analyst': 'DA_or_BA',\n",
    "                    'Engineer, data': 'SE'}, inplace=True)\n"
   ]
  },
  {
   "cell_type": "code",
   "execution_count": null,
   "metadata": {},
   "outputs": [],
   "source": [
    "df2.insert(loc=0, column='ID', value=df2.index)\n",
    "df2.head()"
   ]
  },
  {
   "cell_type": "code",
   "execution_count": null,
   "metadata": {},
   "outputs": [],
   "source": [
    "colunas = ['ID', 'Year','Country','EdLevel','Employment', 'OrgSize']\n",
    "df2_encoded = df2.copy()\n",
    "\n",
    "for coluna in df2_encoded.columns[2:]:\n",
    "    df2_encoded[coluna] = le.fit_transform(df2_encoded[coluna])\n",
    "df2_encoded.head()"
   ]
  },
  {
   "cell_type": "code",
   "execution_count": null,
   "metadata": {},
   "outputs": [],
   "source": [
    "rl_data = df2_encoded[colunas].values\n",
    "rl_target = df2_encoded['JobSat'].values"
   ]
  },
  {
   "cell_type": "code",
   "execution_count": null,
   "metadata": {},
   "outputs": [],
   "source": [
    "from sklearn.linear_model import LinearRegression\n",
    "X_train_rl, X_test_rl, y_train_rl, y_test_rl = train_test_split(rl_data, rl_target, test_size=0.3, random_state=18)\n",
    "\n",
    "reg = LinearRegression().fit(X_train_rl, y_train_rl)\n",
    "reg.score(X_test_rl, y_test_rl)"
   ]
  },
  {
   "cell_type": "code",
   "execution_count": null,
   "metadata": {},
   "outputs": [],
   "source": [
    "rl_pred = reg.predict(X_test_rl)\n",
    "rl_pred"
   ]
  },
  {
   "cell_type": "markdown",
   "metadata": {},
   "source": [
    "#### Métricas de avaliação Regressão Linear\n",
    "Por se tratar de uma regressão, as métricas f1 score, accuracy, precision e recall não são aplicáveis."
   ]
  },
  {
   "cell_type": "code",
   "execution_count": null,
   "metadata": {},
   "outputs": [],
   "source": [
    "# score do modelo\n",
    "reg.score(X_test_rl, y_test_rl)"
   ]
  },
  {
   "cell_type": "markdown",
   "metadata": {},
   "source": [
    "#### Persistindo o modelo"
   ]
  },
  {
   "cell_type": "code",
   "execution_count": null,
   "metadata": {},
   "outputs": [],
   "source": [
    "with open('modelo_RL', 'wb') as f: \n",
    "    joblib.dump(reg, f)\n",
    "with open('modelo_RL', 'rb') as f:  \n",
    "    modelo_rl = joblib.load(f)"
   ]
  },
  {
   "cell_type": "code",
   "execution_count": null,
   "metadata": {},
   "outputs": [],
   "source": [
    "modelo_rl.predict(X_test_rl)"
   ]
  },
  {
   "cell_type": "markdown",
   "metadata": {},
   "source": [
    "### 3.3. Classificador de Regressão Logística"
   ]
  },
  {
   "cell_type": "code",
   "execution_count": null,
   "metadata": {},
   "outputs": [],
   "source": [
    "from random import uniform\n",
    "import matplotlib.pyplot as plt\n",
    "from sklearn.linear_model import LogisticRegression\n",
    "import numpy as np\n",
    "%matplotlib inline"
   ]
  },
  {
   "cell_type": "code",
   "execution_count": null,
   "metadata": {},
   "outputs": [],
   "source": [
    "exam_1 = [] # criando a lista para o exame1\n",
    "exm_2 = [] # criando a lista para o Exme2\n",
    "\n",
    "for i in range(0,len(df_encoded)):  # laço de repetição para poder criar todas as notas de uma vez só\n",
    "    if df_encoded['target'][i] == 1:\n",
    "        ex_1 = round(uniform(1, 100), 6)\n",
    "        ex_2 = round(uniform((100-ex_1), 100), 6)\n",
    "        \n",
    "        exam_1.append(ex_1)\n",
    "        exm_2.append(ex_2)\n",
    "        \n",
    "    if df_encoded['target'][i] == 0:\n",
    "        ex_1_0 = round(uniform(1, 100), 6)\n",
    "        ex_2_0 = round(uniform(1, (100 - ex_1_0)), 6)\n",
    "        \n",
    "        exam_1.append(ex_1_0) #adicionando a nota a lista\n",
    "        exm_2.append(ex_2_0) #adicionando a nota a lista\n",
    "        \n",
    "        \n",
    "df_encoded[\"exame1\"] = exam_1  # criando uma coluna nova\n",
    "df_encoded[\"exame2\"] = exm_2   # criando uma coluna nova\n",
    "\n",
    "df_encoded = df_encoded[['city', 'city_development_index',\n",
    "       'relevent_experience', 'enrolled_university', 'education_level',\n",
    "       'major_discipline', 'experience', 'company_size', 'company_type',\n",
    "       'last_new_job', 'training_hours','exame1','exame2','target']]  # organizando a ordem das colunas"
   ]
  },
  {
   "cell_type": "markdown",
   "metadata": {},
   "source": [
    "#### Gráficos dos dados\n",
    "#### X"
   ]
  },
  {
   "cell_type": "code",
   "execution_count": null,
   "metadata": {},
   "outputs": [],
   "source": [
    "positive = df_encoded[df_encoded['target'].isin([1])]  # pegando todos os valores da lista que tem target == 1\n",
    "negative = df_encoded[df_encoded['target'].isin([0])]  # pegando todos os valores da lista que tem target == 0\n",
    "\n",
    "fig, ax = plt.subplots(figsize=(6,6)) \n",
    "ax.scatter(positive['exame1'].head(40), positive['exame2'].head(40), s=50, c='b', marker='o', label='Admitido')  # criando os pontos azuis no gráfico\n",
    "ax.scatter(negative['exame1'].head(40), negative['exame2'].head(40), s=50, c='r', marker='x', label='Não Admitido')  # criando os pontos vermelhos no gráfico\n",
    "ax.legend('comparação entre admitidos e não admitidos')  \n",
    "ax.set_xlabel('Exam 1 Score')  \n",
    "ax.set_ylabel('Exam 2 Score')"
   ]
  },
  {
   "cell_type": "code",
   "execution_count": null,
   "metadata": {},
   "outputs": [],
   "source": [
    "sns.regplot(x='exame2',y='exame1',data=df_encoded.head(40), scatter=True) # criando um gráfico seaborn com os valores dos exames"
   ]
  },
  {
   "cell_type": "markdown",
   "metadata": {},
   "source": [
    "#### y"
   ]
  },
  {
   "cell_type": "code",
   "execution_count": null,
   "metadata": {},
   "outputs": [],
   "source": [
    "dados = df_encoded['target'].value_counts()  # criando visualização quantitativa dos valores de target\n",
    "nomes = ['1','2']\n",
    "fig1, ax1= plt.subplots()\n",
    "\n",
    "ax1.pie(dados, labels=nomes, autopct='%1.1f%%', shadow=True, startangle = 90)\n",
    "\n",
    "plt.title('valores de target')\n",
    "ax1.axis('equal')\n",
    "plt.show()"
   ]
  },
  {
   "cell_type": "code",
   "execution_count": null,
   "metadata": {},
   "outputs": [],
   "source": [
    "X_train_log, X_test_log, y_train_log, y_test_log = train_test_split(df_encoded[['exame1','exame2']], \n",
    "                                                                    df_encoded['target'], test_size=0.3, random_state= 18) # separando teste e treino"
   ]
  },
  {
   "cell_type": "code",
   "execution_count": null,
   "metadata": {},
   "outputs": [],
   "source": [
    "# X (train data) e y (target variavel)\n",
    "X = X_train_log\n",
    "y = y_train_log.values"
   ]
  },
  {
   "cell_type": "code",
   "execution_count": null,
   "metadata": {},
   "outputs": [],
   "source": [
    "from sklearn.preprocessing import StandardScaler\n",
    "scaler = StandardScaler() # padronizador"
   ]
  },
  {
   "cell_type": "code",
   "execution_count": null,
   "metadata": {},
   "outputs": [],
   "source": [
    "scaler.fit(X) \n",
    "X = scaler.transform(X) # padronizando X"
   ]
  },
  {
   "cell_type": "markdown",
   "metadata": {},
   "source": [
    "#### Sigmoid"
   ]
  },
  {
   "cell_type": "code",
   "execution_count": null,
   "metadata": {},
   "outputs": [],
   "source": [
    "def sigmoid(z):\n",
    "    return 1 / ( 1 + np.exp(-z)) # calculo da sigmoid"
   ]
  },
  {
   "cell_type": "code",
   "execution_count": null,
   "metadata": {},
   "outputs": [],
   "source": [
    "# criando gráfico da sigmois apenas apra visualização\n",
    "\n",
    "nums = np.arange(-10, 10, step=1) ## distribuição entre -10 e 10 (criada pelo np)\n",
    "\n",
    "## plotando a sigmoid\n",
    "fig, ax = plt.subplots(figsize=(6,4))  \n",
    "ax.plot(nums, sigmoid(nums), 's')\n"
   ]
  },
  {
   "cell_type": "markdown",
   "metadata": {},
   "source": [
    "#### Implementação da regressão"
   ]
  },
  {
   "cell_type": "code",
   "execution_count": null,
   "metadata": {},
   "outputs": [],
   "source": [
    "from scipy.stats import spearmanr\n",
    "# criando visualizaçao da correlação dos dados\n",
    "ex_1 = df_encoded['exame1']\n",
    "ex_2 = df_encoded['exame2']\n",
    "\n",
    "spearman, p = spearmanr(ex_1,ex_2)\n",
    "print(spearman)"
   ]
  },
  {
   "cell_type": "code",
   "execution_count": null,
   "metadata": {},
   "outputs": [],
   "source": [
    "reg_logistica = LogisticRegression().fit(X,y) # fazendo a regressão logistica com a biblioteca do sklearn\n",
    "print(round(reg_logistica.score(X,y),4)) "
   ]
  },
  {
   "cell_type": "code",
   "execution_count": null,
   "metadata": {},
   "outputs": [],
   "source": [
    "scaler.fit(X_test_log)  \n",
    "X_test_log = scaler.transform(X_test_log) #padronizando o X teste\n",
    "\n",
    "y_predito = reg_logistica.predict(X_test_log)# fazendo predição\n"
   ]
  },
  {
   "cell_type": "markdown",
   "metadata": {},
   "source": [
    "#### métricas de avaliação Regressão Logística"
   ]
  },
  {
   "cell_type": "code",
   "execution_count": null,
   "metadata": {},
   "outputs": [],
   "source": [
    "# confusion matrix\n",
    "cm = confusion_matrix(y_test_log, y_predito)\n",
    "print(\"Confusion Matrix\\n\",cm)"
   ]
  },
  {
   "cell_type": "code",
   "execution_count": null,
   "metadata": {},
   "outputs": [],
   "source": [
    "# f1 score\n",
    "print(\"F1 score:\", f1_score(y_test, y_pred, average='micro'))"
   ]
  },
  {
   "cell_type": "code",
   "execution_count": null,
   "metadata": {},
   "outputs": [],
   "source": [
    "# precision\n",
    "print(\"Precision score:\", precision_score(y_test, y_pred, average='micro'))"
   ]
  },
  {
   "cell_type": "code",
   "execution_count": null,
   "metadata": {},
   "outputs": [],
   "source": [
    "# accuracy \n",
    "print(\"Accuracy score: \", accuracy_score(y_test, y_pred))"
   ]
  },
  {
   "cell_type": "code",
   "execution_count": null,
   "metadata": {},
   "outputs": [],
   "source": [
    "# recall\n",
    "print(\"Recall score: \", recall_score(y_test, y_pred))"
   ]
  },
  {
   "cell_type": "code",
   "execution_count": null,
   "metadata": {},
   "outputs": [],
   "source": [
    "from sklearn.metrics import classification_report\n",
    "\n",
    "print(\"Relatório de classificação: \\n\", classification_report(y_test_log, y_predito))"
   ]
  },
  {
   "cell_type": "markdown",
   "metadata": {},
   "source": [
    "#### Persistindo o modelo"
   ]
  },
  {
   "cell_type": "code",
   "execution_count": null,
   "metadata": {},
   "outputs": [],
   "source": [
    "with open('modelo_reg_log', 'wb') as f: \n",
    "    joblib.dump(reg_logistica, f)\n",
    "with open('modelo_reg_log', 'rb') as f:  \n",
    "    modelo_reg_log = joblib.load(f)"
   ]
  },
  {
   "cell_type": "code",
   "execution_count": null,
   "metadata": {},
   "outputs": [],
   "source": [
    "modelo_reg_log.predict(X_test_log)"
   ]
  },
  {
   "cell_type": "markdown",
   "metadata": {},
   "source": [
    "### 3.4. Classificador Naive Bayes"
   ]
  },
  {
   "cell_type": "code",
   "execution_count": null,
   "metadata": {},
   "outputs": [],
   "source": [
    "from sklearn.naive_bayes import BernoulliNB"
   ]
  },
  {
   "cell_type": "code",
   "execution_count": null,
   "metadata": {
    "scrolled": true
   },
   "outputs": [],
   "source": [
    "bnb = BernoulliNB()\n",
    "bnb.fit(X_train, y_train)\n",
    "\n",
    "predições = bnb.predict(X_test)\n",
    "predições"
   ]
  },
  {
   "cell_type": "code",
   "execution_count": null,
   "metadata": {},
   "outputs": [],
   "source": [
    "print('Accuracy score:', accuracy_score(predições, y_test))"
   ]
  },
  {
   "cell_type": "code",
   "execution_count": null,
   "metadata": {},
   "outputs": [],
   "source": [
    "print('F1 score:', f1_score(predições, y_test))"
   ]
  },
  {
   "cell_type": "code",
   "execution_count": null,
   "metadata": {
    "scrolled": true
   },
   "outputs": [],
   "source": [
    "print('Precison score:', precision_score(predições, y_test))"
   ]
  },
  {
   "cell_type": "code",
   "execution_count": null,
   "metadata": {},
   "outputs": [],
   "source": [
    "print('Recall score:', recall_score(predições, y_test))"
   ]
  },
  {
   "cell_type": "code",
   "execution_count": null,
   "metadata": {},
   "outputs": [],
   "source": [
    "print('Confusion matrix:\\n', confusion_matrix(predições, y_test))"
   ]
  },
  {
   "cell_type": "code",
   "execution_count": null,
   "metadata": {},
   "outputs": [],
   "source": [
    "# Score do modelo\n",
    "bnb.score(X_test, y_test)"
   ]
  },
  {
   "cell_type": "markdown",
   "metadata": {},
   "source": [
    "#### Persistindo o modelo"
   ]
  },
  {
   "cell_type": "code",
   "execution_count": null,
   "metadata": {},
   "outputs": [],
   "source": [
    "with open('modelo_NB', 'wb') as f:\n",
    "    joblib.dump(bnb, f)\n",
    "with open('modelo_NB', 'rb') as f:\n",
    "    modelo_NB = joblib.load(f)"
   ]
  },
  {
   "cell_type": "code",
   "execution_count": null,
   "metadata": {},
   "outputs": [],
   "source": [
    "modelo_NB.predict(X_test)"
   ]
  },
  {
   "cell_type": "markdown",
   "metadata": {},
   "source": [
    "### 3.5. Classificador de Árvore de Decisão "
   ]
  },
  {
   "cell_type": "code",
   "execution_count": null,
   "metadata": {},
   "outputs": [],
   "source": [
    "from sklearn.tree import DecisionTreeClassifier\n",
    "from sklearn import tree"
   ]
  },
  {
   "cell_type": "code",
   "execution_count": null,
   "metadata": {},
   "outputs": [],
   "source": [
    "# atributos influentes na classificação\n",
    "ad_data_columns = ['experience', 'last_new_job', 'training_hours']"
   ]
  },
  {
   "cell_type": "code",
   "execution_count": null,
   "metadata": {},
   "outputs": [],
   "source": [
    "# definindo atributos e target\n",
    "X_dt = df_encoded[ad_data_columns].values\n",
    "y_dt = df['target'].values\n",
    "\n",
    "# X_dt\n",
    "# y_dt"
   ]
  },
  {
   "cell_type": "code",
   "execution_count": null,
   "metadata": {},
   "outputs": [],
   "source": [
    "# dividindo treino e teste\n",
    "X_train_dt, X_test_dt, y_train_dt, y_test_dt = train_test_split(X_dt, y_dt, test_size=0.3, random_state=18)"
   ]
  },
  {
   "cell_type": "code",
   "execution_count": null,
   "metadata": {},
   "outputs": [],
   "source": [
    "# classificador\n",
    "dtc = DecisionTreeClassifier()\n",
    "\n",
    "dtc.fit(X_train_dt, y_train_dt)"
   ]
  },
  {
   "cell_type": "code",
   "execution_count": null,
   "metadata": {},
   "outputs": [],
   "source": [
    "# importância dos atributos\n",
    "dtc.feature_importances_"
   ]
  },
  {
   "cell_type": "code",
   "execution_count": null,
   "metadata": {},
   "outputs": [],
   "source": [
    "# predizendo os dados de teste\n",
    "predictions_dtc = dtc.predict(X_test_dt)\n",
    "predictions_dtc"
   ]
  },
  {
   "cell_type": "code",
   "execution_count": null,
   "metadata": {
    "scrolled": true
   },
   "outputs": [],
   "source": [
    "# TEMPO DE EXPERIÊNCIA | HÁ QUANTO TEMPO FOI O ÚLTIMO EMPREGO | HORAS DE TREINAMENTO\n",
    "# caso 1: +20 anos, 4 anos, 50 horas\n",
    "# caso 2: 5 anos, continua trabalhando, 83 horas\n",
    "# caso 3: 15 anos, 2 anos, 32 horas\n",
    "\n",
    "casos_dtc = dtc.predict([[21,3,49],\n",
    "                               [20,5,51],\n",
    "                               [6,1,31]])\n",
    "casos_dtc"
   ]
  },
  {
   "cell_type": "markdown",
   "metadata": {},
   "source": [
    "#### Métricas de avaliação Árvore de Decisão"
   ]
  },
  {
   "cell_type": "code",
   "execution_count": null,
   "metadata": {},
   "outputs": [],
   "source": [
    "print(\"F1 score:\", f1_score(predictions_dtc, y_test_dt))"
   ]
  },
  {
   "cell_type": "code",
   "execution_count": null,
   "metadata": {},
   "outputs": [],
   "source": [
    "print(\"Precision score:\", precision_score(predictions_dtc, y_test_dt))"
   ]
  },
  {
   "cell_type": "code",
   "execution_count": null,
   "metadata": {},
   "outputs": [],
   "source": [
    "print(\"Accuracy score:\", accuracy_score(predictions_dtc, y_test_dt))"
   ]
  },
  {
   "cell_type": "code",
   "execution_count": null,
   "metadata": {},
   "outputs": [],
   "source": [
    "print(\"Recall score:\", recall_score(predictions_dtc, y_test_dt))"
   ]
  },
  {
   "cell_type": "code",
   "execution_count": null,
   "metadata": {
    "scrolled": true
   },
   "outputs": [],
   "source": [
    "# score geral do modelo\n",
    "dtc.score(X_test_dt, y_test_dt)"
   ]
  },
  {
   "cell_type": "code",
   "execution_count": null,
   "metadata": {},
   "outputs": [],
   "source": [
    "with open('modelo_DT', 'wb') as f:\n",
    "    joblib.dump(dtc, f)\n",
    "with open('modelo_DT', 'rb') as f:\n",
    "    modelo_dt = joblib.load(f)"
   ]
  },
  {
   "cell_type": "code",
   "execution_count": null,
   "metadata": {},
   "outputs": [],
   "source": [
    "modelo_dt.predict(X_test_dt)"
   ]
  },
  {
   "cell_type": "markdown",
   "metadata": {},
   "source": [
    "## 4. Banco de Dados\n",
    "### Dataset 1\n"
   ]
  },
  {
   "cell_type": "code",
   "execution_count": null,
   "metadata": {},
   "outputs": [],
   "source": [
    "import pandas as pd\n",
    "import sqlite3 as sql\n",
    "import matplotlib.pyplot as plt\n",
    "from sqlalchemy import create_engine\n",
    "import scipy.stats as stats\n",
    "import pylab as pl\n",
    "\n",
    "engine = create_engine('sqlite://', echo=False)  #engine para consultar o BD."
   ]
  },
  {
   "cell_type": "code",
   "execution_count": null,
   "metadata": {},
   "outputs": [],
   "source": [
    "df.head()"
   ]
  },
  {
   "cell_type": "markdown",
   "metadata": {},
   "source": [
    "#### Modelo conceitual"
   ]
  },
  {
   "cell_type": "markdown",
   "metadata": {},
   "source": [
    "<img src=\"modelo_conceitual_ds1.png\" />"
   ]
  },
  {
   "cell_type": "markdown",
   "metadata": {},
   "source": [
    "#### Modelo lógico"
   ]
  },
  {
   "cell_type": "markdown",
   "metadata": {},
   "source": [
    "<img src=\"modelo_lógico_ds1.png\" />"
   ]
  },
  {
   "cell_type": "markdown",
   "metadata": {},
   "source": [
    "#### Criando e  Populando as tabelas Dataset 1\n"
   ]
  },
  {
   "cell_type": "code",
   "execution_count": null,
   "metadata": {},
   "outputs": [],
   "source": [
    "# Especificando as colunas de cada tabela.\n",
    "\n",
    "person = ['enrollee_id', 'gender','target']\n",
    "schooling = ['enrollee_id', 'enrolled_university', 'education_level', 'major_discipline']\n",
    "city = ['enrollee_id', 'city', 'city_development_index']\n",
    "experience = ['enrollee_id', 'relevent_experience', 'experience', 'company_size', 'company_type', 'last_new_job', 'training_hours']  "
   ]
  },
  {
   "cell_type": "code",
   "execution_count": null,
   "metadata": {},
   "outputs": [],
   "source": [
    "# Criando as tabelas.\n",
    "\n",
    "df_person = df.filter(items=person)\n",
    "df_schooling = df.filter(items=schooling)\n",
    "df_city = df.filter(items=city)\n",
    "df_experience = df.filter(items=experience)"
   ]
  },
  {
   "cell_type": "code",
   "execution_count": null,
   "metadata": {},
   "outputs": [],
   "source": [
    "# Convertendo o Dataframe em SQL.\n",
    "\n",
    "df_person.to_sql('person', con=engine)\n",
    "df_schooling.to_sql('schooling', con=engine)\n",
    "df_city.to_sql('city', con=engine)\n",
    "df_experience.to_sql('experience', con=engine)"
   ]
  },
  {
   "cell_type": "markdown",
   "metadata": {},
   "source": [
    "### Dataset 2"
   ]
  },
  {
   "cell_type": "code",
   "execution_count": null,
   "metadata": {
    "scrolled": true
   },
   "outputs": [],
   "source": [
    "df2.head()"
   ]
  },
  {
   "cell_type": "markdown",
   "metadata": {},
   "source": [
    "#### Modelo conceitual"
   ]
  },
  {
   "cell_type": "markdown",
   "metadata": {},
   "source": [
    "<img src=\"modelo_conceitual_ds2.png\" />"
   ]
  },
  {
   "cell_type": "markdown",
   "metadata": {},
   "source": [
    "#### Criando e Populando as Tabelas do Dataset 2\n"
   ]
  },
  {
   "cell_type": "code",
   "execution_count": null,
   "metadata": {},
   "outputs": [],
   "source": [
    "profession = ['ID', 'Hobbyist','ConvertedComp','DS_or_MLS', 'DBA', 'DA_or_BA', 'SE']\n",
    "jobsat = ['ID', 'Year','Country','EdLevel','Employment', 'JobSat', 'OrgSize']\n",
    "individual = ['ID','UndergradMajor', 'YearsCodePro']"
   ]
  },
  {
   "cell_type": "code",
   "execution_count": null,
   "metadata": {},
   "outputs": [],
   "source": [
    "df2_profession = df2.filter(items=profession)\n",
    "df2_jobsat = df2.filter(items=jobsat)\n",
    "df2_individual = df2.filter(items=individual)"
   ]
  },
  {
   "cell_type": "code",
   "execution_count": null,
   "metadata": {},
   "outputs": [],
   "source": [
    "df2_profession.to_sql('profession', con=engine)\n",
    "df2_jobsat.to_sql('jobsat', con=engine)\n",
    "df2_individual.to_sql('individual', con=engine)"
   ]
  },
  {
   "cell_type": "markdown",
   "metadata": {},
   "source": [
    "### QUESTÕES\n"
   ]
  },
  {
   "cell_type": "markdown",
   "metadata": {},
   "source": [
    "#### QUESTÃO 1 - QUAL A MÉDIA DE ANOS DE EXPERIÊNCIA COM CÓDIGO DE UM CIENTISTA DE DADOS?"
   ]
  },
  {
   "cell_type": "code",
   "execution_count": null,
   "metadata": {},
   "outputs": [],
   "source": [
    "q1 = engine.execute(\"SELECT avg(i.YearsCodePro) \\\n",
    "                    FROM individual i \\\n",
    "                    JOIN profession p ON i.ID = p.ID\\\n",
    "                    WHERE p.DS_or_MLS == 1\").fetchall()\n",
    "\n",
    "q1"
   ]
  },
  {
   "cell_type": "markdown",
   "metadata": {},
   "source": [
    "#### QUESTÃO 2 - QUAL A MÉDIA DE SATISFAÇÃO NO TRABALHO AO LONGO DOS ANOS?"
   ]
  },
  {
   "cell_type": "code",
   "execution_count": null,
   "metadata": {
    "scrolled": false
   },
   "outputs": [],
   "source": [
    "q2 = engine.execute(\"SELECT Year, avg(JobSat) FROM jobsat GROUP BY Year\")\n",
    "pd.DataFrame(q2)   #tranformando a query em Dataframe"
   ]
  },
  {
   "cell_type": "markdown",
   "metadata": {},
   "source": [
    "#### QUESTÃO 3 - QUANTOS PROFISSIONAIS SÃO ESPECIFICAMENTE CIENTISTAS DE DADOS? (dataset 2)"
   ]
  },
  {
   "cell_type": "code",
   "execution_count": null,
   "metadata": {},
   "outputs": [],
   "source": [
    "q3 = engine.execute(\"SELECT count(DS_or_MLS) FROM profession WHERE DS_or_MLS = 1 \").fetchall()\n",
    "q3"
   ]
  },
  {
   "cell_type": "markdown",
   "metadata": {},
   "source": [
    "#### QUESTÃO 4 - QUAL A RELAÇÃO ENTRE ÍNDICE DE DESENVOLVIMENTO DA CIDADE E CANDIDATOS QUE REALMENTE QUEREM TRABALHAR NA EMPRESA?"
   ]
  },
  {
   "cell_type": "code",
   "execution_count": null,
   "metadata": {},
   "outputs": [],
   "source": [
    "q4 = engine.execute(\"SELECT p.target, avg(c.city_development_index) FROM city c \\\n",
    "                    JOIN person p ON c.enrollee_id = p.enrollee_id GROUP BY p.target\")"
   ]
  },
  {
   "cell_type": "code",
   "execution_count": null,
   "metadata": {},
   "outputs": [],
   "source": [
    "pd.DataFrame(q4)"
   ]
  },
  {
   "cell_type": "markdown",
   "metadata": {},
   "source": [
    "#### QUESTÃO 5 - QUAL O TIPO  MAIS RECORRENTE DAS ORGANIZAÇÕES ATUAIS DO CANDIDATOS QUE REALMENTE QUEREM TRABALHAR NA EMPRESA? (dataset 1)"
   ]
  },
  {
   "cell_type": "code",
   "execution_count": null,
   "metadata": {
    "scrolled": false
   },
   "outputs": [],
   "source": [
    "q5 = engine.execute(\"SELECT e.company_type, count(e.company_type)\\\n",
    "                    FROM experience e\\\n",
    "                    JOIN person p ON e.enrollee_id = p.enrollee_id\\\n",
    "                    WHERE e.company_type <> 'None' AND p.target = 1\\\n",
    "                    GROUP BY company_type\").fetchall()\n",
    "q5 = pd.DataFrame(q5)  \n",
    "q5"
   ]
  },
  {
   "cell_type": "code",
   "execution_count": null,
   "metadata": {},
   "outputs": [],
   "source": [
    "compsq5 = q5[0]     # Pegando a primeira coluna do Dataframe para colocar no eixo Y do gráfico.\n",
    "valuesq5 = q5[1]    # Pegando a coluna com os valores para usar no gráfico.\n",
    "\n",
    "plt.barh(compsq5, valuesq5, color='BLUE')\n",
    "plt.show()\n"
   ]
  },
  {
   "cell_type": "markdown",
   "metadata": {},
   "source": [
    "#### QUESTÃO 6 - QUAL A PROPORÇÃO DE CANDIDATOS COM EXPERIÊNCIA RELEVANTE?"
   ]
  },
  {
   "cell_type": "code",
   "execution_count": null,
   "metadata": {
    "scrolled": true
   },
   "outputs": [],
   "source": [
    "q6 = engine.execute(\"SELECT count(relevent_experience) FROM experience GROUP BY relevent_experience\").fetchall()\n",
    "q6"
   ]
  },
  {
   "cell_type": "code",
   "execution_count": null,
   "metadata": {},
   "outputs": [],
   "source": [
    "dados = [c[0] for c in q6]   # tratando os dados para plotagem do gráfico.\n",
    "labels_list = ['Has relevent_experience', 'No relevent_experience']  # definindo a legenda dos dados.\n",
    "\n",
    "plt.axis('equal')\n",
    "plt.pie(dados, labels=labels_list, autopct='%1.1f%%')   #plotagem do gráfico em pizza.\n",
    "plt.show()"
   ]
  },
  {
   "cell_type": "markdown",
   "metadata": {},
   "source": [
    "#### QUESTÃO 7 - QUANTAS HORAS DE TREINAMENTO TÊM EM MÉDIA OS CANDIDATOS IDEAIS (TARGET = 1)? "
   ]
  },
  {
   "cell_type": "code",
   "execution_count": null,
   "metadata": {
    "scrolled": true
   },
   "outputs": [],
   "source": [
    "q7 = engine.execute(\"SELECT avg(c.training_hours) \\\n",
    "                    FROM experience c \\\n",
    "                    JOIN person p ON c.enrollee_id = p.enrollee_id\\\n",
    "                    WHERE p.target == 1\").fetchall()\n",
    "q7"
   ]
  },
  {
   "cell_type": "markdown",
   "metadata": {},
   "source": [
    "#### QUESTÃO 8 - QUAL A MÉDIA DE EXPERIÊNCIA DOS CANDIDATOS QUE REALMENTE QUEREM TRABALHAR NA EMPRESA?"
   ]
  },
  {
   "cell_type": "code",
   "execution_count": null,
   "metadata": {},
   "outputs": [],
   "source": [
    "q8 = engine.execute(\"SELECT e.experience \\\n",
    "                    FROM experience e \\\n",
    "                    JOIN person p ON e.enrollee_id = p.enrollee_id\\\n",
    "                    WHERE p.target == 1\").fetchall()\n",
    "\n",
    "q8 = pd.DataFrame(q8)  \n",
    "\n",
    "\n",
    "sns.countplot(y=q8[0].sort_values(), order=order)"
   ]
  },
  {
   "cell_type": "code",
   "execution_count": null,
   "metadata": {
    "scrolled": true
   },
   "outputs": [],
   "source": [
    "q8_avg = engine.execute(\"SELECT avg(experience)\\\n",
    "                        FROM experience\").fetchall()\n",
    "\n",
    "q8_avg"
   ]
  },
  {
   "cell_type": "markdown",
   "metadata": {},
   "source": [
    "#### QUESTÃO 9 - QUANTOS CANDIDATOS IDEAIS NÃO ESTUDAM EM TEMPO INTEGRAL?"
   ]
  },
  {
   "cell_type": "code",
   "execution_count": null,
   "metadata": {
    "scrolled": true
   },
   "outputs": [],
   "source": [
    "q9 = engine.execute(\"SELECT s.enrolled_university, COUNT(s.enrolled_university)\\\n",
    "                    FROM schooling s\\\n",
    "                    JOIN person p ON s.enrollee_id = p.enrollee_id\\\n",
    "                    WHERE p.target = 1 AND s.enrolled_university <> 'Full time course'\\\n",
    "                    GROUP BY s.enrolled_university\").fetchall()\n",
    "\n",
    "q9 = pd.DataFrame(q9) \n",
    "q9"
   ]
  },
  {
   "cell_type": "code",
   "execution_count": null,
   "metadata": {},
   "outputs": [],
   "source": []
  },
  {
   "cell_type": "markdown",
   "metadata": {},
   "source": [
    "#### QUESTÃO 10 - QUANTOS CANDIDATOS SE DESTACAM NESTE PROCESSO SELETIVO?"
   ]
  },
  {
   "cell_type": "raw",
   "metadata": {},
   "source": [
    "q10 = engine.execute(\"SELECT count(p.enrollee_id)\\\n",
    "                    FROM person p\\\n",
    "                    JOIN experience e, schooling s ON p.enrollee_id = e.enrollee_id\\\n",
    "                    AND p.enrollee_id = s.enrollee_id\\\n",
    "                    WHERE e.experience > 6\\\n",
    "                    AND e.training_hours > 63\\\n",
    "                    AND e.relevent_experience = 'Has relevent experience'\\\n",
    "                    AND s.enrolled_university <> 'Full time course' \\\n",
    "                    AND p.target = 1\\\n",
    "                    \").fetchall()\n",
    "q10"
   ]
  }
 ],
 "metadata": {
  "kernelspec": {
   "display_name": "Python 3",
   "language": "python",
   "name": "python3"
  },
  "language_info": {
   "codemirror_mode": {
    "name": "ipython",
    "version": 3
   },
   "file_extension": ".py",
   "mimetype": "text/x-python",
   "name": "python",
   "nbconvert_exporter": "python",
   "pygments_lexer": "ipython3",
   "version": "3.9.5"
  }
 },
 "nbformat": 4,
 "nbformat_minor": 4
}
