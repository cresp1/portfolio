{
 "cells": [
  {
   "cell_type": "markdown",
   "metadata": {},
   "source": [
    "# Pontifícia Universidade Católica de São Paulo\n",
    "## Faculdade de Estudos Interdisciplinares\n",
    "Kevin Egídio de Toledo, RA: 00282590\n",
    "\n",
    "Gabriel Crespi de Santana, RA: 00274413\n",
    "\n",
    "Pedro Lucas Silva Ferreira, RA: 00285608\n",
    "\n",
    "## Projeto Final | Mineração de Dados"
   ]
  },
  {
   "cell_type": "code",
   "execution_count": 1,
   "metadata": {
    "colab": {
     "base_uri": "https://localhost:8080/",
     "height": 110,
     "resources": {
      "http://localhost:8080/nbextensions/google.colab/files.js": {
       "data": "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",
       "headers": [
        [
         "content-type",
         "application/javascript"
        ]
       ],
       "ok": true,
       "status": 200,
       "status_text": ""
      }
     }
    },
    "id": "hKPCEpWwzGU8",
    "outputId": "824489bd-c3d4-46a3-e6e9-7597a4d2897f"
   },
   "outputs": [],
   "source": [
    "# dependências\n",
    "import pandas as pd\n",
    "import seaborn as sns\n",
    "import matplotlib.pyplot as plt\n",
    "import numpy as np\n",
    "import statistics"
   ]
  },
  {
   "cell_type": "code",
   "execution_count": 2,
   "metadata": {
    "colab": {
     "base_uri": "https://localhost:8080/",
     "height": 203
    },
    "id": "pMRGzMB60XhC",
    "outputId": "6f2a9d7a-62f4-4495-a600-86f3a5693338"
   },
   "outputs": [
    {
     "data": {
      "text/html": [
       "<div>\n",
       "<style scoped>\n",
       "    .dataframe tbody tr th:only-of-type {\n",
       "        vertical-align: middle;\n",
       "    }\n",
       "\n",
       "    .dataframe tbody tr th {\n",
       "        vertical-align: top;\n",
       "    }\n",
       "\n",
       "    .dataframe thead th {\n",
       "        text-align: right;\n",
       "    }\n",
       "</style>\n",
       "<table border=\"1\" class=\"dataframe\">\n",
       "  <thead>\n",
       "    <tr style=\"text-align: right;\">\n",
       "      <th></th>\n",
       "      <th>Unnamed: 0</th>\n",
       "      <th>ID do cliente</th>\n",
       "      <th>Idade</th>\n",
       "      <th>Educação</th>\n",
       "      <th>Anos de emprego</th>\n",
       "      <th>Renda</th>\n",
       "      <th>Dívida do cartão</th>\n",
       "      <th>Outras dívidas</th>\n",
       "      <th>Inadimplente</th>\n",
       "      <th>Razão débito-renda</th>\n",
       "    </tr>\n",
       "  </thead>\n",
       "  <tbody>\n",
       "    <tr>\n",
       "      <th>0</th>\n",
       "      <td>0</td>\n",
       "      <td>1</td>\n",
       "      <td>41</td>\n",
       "      <td>2</td>\n",
       "      <td>6</td>\n",
       "      <td>19</td>\n",
       "      <td>0.124</td>\n",
       "      <td>1.073</td>\n",
       "      <td>0.0</td>\n",
       "      <td>6.3</td>\n",
       "    </tr>\n",
       "    <tr>\n",
       "      <th>1</th>\n",
       "      <td>1</td>\n",
       "      <td>2</td>\n",
       "      <td>47</td>\n",
       "      <td>1</td>\n",
       "      <td>26</td>\n",
       "      <td>100</td>\n",
       "      <td>4.582</td>\n",
       "      <td>8.218</td>\n",
       "      <td>0.0</td>\n",
       "      <td>12.8</td>\n",
       "    </tr>\n",
       "    <tr>\n",
       "      <th>2</th>\n",
       "      <td>2</td>\n",
       "      <td>3</td>\n",
       "      <td>33</td>\n",
       "      <td>2</td>\n",
       "      <td>10</td>\n",
       "      <td>57</td>\n",
       "      <td>6.111</td>\n",
       "      <td>5.802</td>\n",
       "      <td>1.0</td>\n",
       "      <td>20.9</td>\n",
       "    </tr>\n",
       "    <tr>\n",
       "      <th>3</th>\n",
       "      <td>3</td>\n",
       "      <td>4</td>\n",
       "      <td>29</td>\n",
       "      <td>2</td>\n",
       "      <td>4</td>\n",
       "      <td>19</td>\n",
       "      <td>0.681</td>\n",
       "      <td>0.516</td>\n",
       "      <td>0.0</td>\n",
       "      <td>6.3</td>\n",
       "    </tr>\n",
       "    <tr>\n",
       "      <th>4</th>\n",
       "      <td>4</td>\n",
       "      <td>5</td>\n",
       "      <td>47</td>\n",
       "      <td>1</td>\n",
       "      <td>31</td>\n",
       "      <td>253</td>\n",
       "      <td>9.308</td>\n",
       "      <td>8.908</td>\n",
       "      <td>0.0</td>\n",
       "      <td>7.2</td>\n",
       "    </tr>\n",
       "  </tbody>\n",
       "</table>\n",
       "</div>"
      ],
      "text/plain": [
       "   Unnamed: 0  ID do cliente  Idade  Educação  Anos de emprego  Renda  \\\n",
       "0           0              1     41         2                6     19   \n",
       "1           1              2     47         1               26    100   \n",
       "2           2              3     33         2               10     57   \n",
       "3           3              4     29         2                4     19   \n",
       "4           4              5     47         1               31    253   \n",
       "\n",
       "   Dívida do cartão  Outras dívidas  Inadimplente  Razão débito-renda  \n",
       "0             0.124           1.073           0.0                 6.3  \n",
       "1             4.582           8.218           0.0                12.8  \n",
       "2             6.111           5.802           1.0                20.9  \n",
       "3             0.681           0.516           0.0                 6.3  \n",
       "4             9.308           8.908           0.0                 7.2  "
      ]
     },
     "execution_count": 2,
     "metadata": {},
     "output_type": "execute_result"
    }
   ],
   "source": [
    "# dataset\n",
    "df = pd.read_csv(\"dados.csv\", sep=\",\")\n",
    "df.head()"
   ]
  },
  {
   "cell_type": "code",
   "execution_count": 3,
   "metadata": {
    "id": "zKf2xslR9I6a"
   },
   "outputs": [],
   "source": [
    "df.drop(columns = ['ID do cliente', 'Unnamed: 0'],axis=1, inplace=True)"
   ]
  },
  {
   "cell_type": "code",
   "execution_count": 4,
   "metadata": {
    "id": "RV89-xht9JXv"
   },
   "outputs": [],
   "source": [
    "df['Inadimplente'].fillna(0, inplace=True)"
   ]
  },
  {
   "cell_type": "markdown",
   "metadata": {
    "id": "BplxMzEv2Tm3"
   },
   "source": [
    " Um histograma para ilustrar a distribuição de clientes por idade."
   ]
  },
  {
   "cell_type": "code",
   "execution_count": 5,
   "metadata": {
    "colab": {
     "base_uri": "https://localhost:8080/",
     "height": 378
    },
    "id": "heOC7Xf_2Qr9",
    "outputId": "28e0ac1c-c43f-49c5-d2ec-941f24eb4fd3"
   },
   "outputs": [
    {
     "data": {
      "text/plain": [
       "Text(0, 0.5, 'Clientes')"
      ]
     },
     "execution_count": 5,
     "metadata": {},
     "output_type": "execute_result"
    },
    {
     "data": {
      "image/png": "[encoded data removed]",
      "text/plain": [
       "<Figure size 432x288 with 1 Axes>"
      ]
     },
     "metadata": {
      "needs_background": "light"
     },
     "output_type": "display_data"
    }
   ],
   "source": [
    "sns.histplot(data = df, x = 'Idade')\n",
    "plt.ylabel('Clientes')"
   ]
  },
  {
   "cell_type": "markdown",
   "metadata": {
    "id": "mUfljIBr5wY7"
   },
   "source": [
    "Calcule o percentual de clientes inadimplentes"
   ]
  },
  {
   "cell_type": "code",
   "execution_count": 19,
   "metadata": {
    "colab": {
     "base_uri": "https://localhost:8080/"
    },
    "id": "DRFmmzlh2Q86",
    "outputId": "07ac3b50-9c6d-4242-c58d-480281948416"
   },
   "outputs": [
    {
     "data": {
      "text/plain": [
       "0.0    0.784706\n",
       "1.0    0.215294\n",
       "Name: Inadimplente, dtype: float64"
      ]
     },
     "execution_count": 19,
     "metadata": {},
     "output_type": "execute_result"
    }
   ],
   "source": [
    "df['Inadimplente'].value_counts()/df['Inadimplente'].value_counts().sum()"
   ]
  },
  {
   "cell_type": "markdown",
   "metadata": {
    "id": "GHfI2fBdDCLB"
   },
   "source": [
    " Normalize o Dataset usando o 'StandardScaler' do scikit-learn. Como as variáveis \n",
    "categóricas são representativas de uma escala crescente não faça nenhuma separação \n",
    "para elas em relação às numéricas"
   ]
  },
  {
   "cell_type": "code",
   "execution_count": 7,
   "metadata": {
    "colab": {
     "base_uri": "https://localhost:8080/"
    },
    "id": "lhrM5kqqCzxB",
    "outputId": "9ec1c31a-3b0d-4165-8ea0-5d7702832607"
   },
   "outputs": [
    {
     "data": {
      "text/plain": [
       "array([[ 0.74291541,  0.31212243, -0.37878978, ..., -0.59048916,\n",
       "        -0.52379654, -0.57652509],\n",
       "       [ 1.48949049, -0.76634938,  2.5737211 , ...,  1.51296181,\n",
       "        -0.52379654,  0.39138677],\n",
       "       [-0.25251804,  0.31212243,  0.2117124 , ...,  0.80170393,\n",
       "         1.90913822,  1.59755385],\n",
       "       ...,\n",
       "       [-1.24795149,  2.46906604, -1.26454304, ...,  0.03863257,\n",
       "         1.90913822,  3.45892281],\n",
       "       [-0.37694723, -0.76634938,  0.50696349, ..., -0.70147601,\n",
       "        -0.52379654, -1.08281745],\n",
       "       [ 2.1116364 , -0.76634938,  1.09746566, ...,  0.16463355,\n",
       "        -0.52379654, -0.2340332 ]])"
      ]
     },
     "execution_count": 7,
     "metadata": {},
     "output_type": "execute_result"
    }
   ],
   "source": [
    "import numpy as np\n",
    "from sklearn.preprocessing import StandardScaler\n",
    "from sklearn.cluster import KMeans \n",
    "\n",
    "\n",
    "scaler = StandardScaler().fit(df)\n",
    "X = scaler.transform(df)\n",
    "# print(X)"
   ]
  },
  {
   "cell_type": "markdown",
   "metadata": {
    "id": "F6VBrqMj_7CH"
   },
   "source": [
    " Faça a segmentação dos clientes usando o k-means do scikit-learn. Descubra a \n",
    "quantidade de grupos adequada através do critério “elbow”"
   ]
  },
  {
   "cell_type": "code",
   "execution_count": 8,
   "metadata": {
    "colab": {
     "base_uri": "https://localhost:8080/",
     "height": 544
    },
    "id": "VjJftFZUEjBq",
    "outputId": "dc27012b-aa71-4601-d89e-50fc7c302b59"
   },
   "outputs": [
    {
     "name": "stdout",
     "output_type": "stream",
     "text": [
      "1 6799.999999999994\n",
      "2 5193.911938307019\n",
      "3 4339.017294402985\n",
      "4 3763.0287480159527\n",
      "5 3411.0708841122296\n",
      "6 3102.4999683803435\n",
      "7 2892.9896356361087\n",
      "8 2691.568719881284\n",
      "9 2549.342780907037\n",
      "10 2437.8391521502713\n"
     ]
    },
    {
     "data": {
      "image/png": "[encoded data removed]",
      "text/plain": [
       "<Figure size 432x288 with 1 Axes>"
      ]
     },
     "metadata": {
      "needs_background": "light"
     },
     "output_type": "display_data"
    }
   ],
   "source": [
    "from sklearn.cluster import KMeans\n",
    "wcss = []\n",
    " \n",
    "for i in range(1, 11):\n",
    "    kmeans = KMeans(n_clusters = i, n_init = 12, init='k-means++')\n",
    "    kmeans.fit(X)\n",
    "    print(i,kmeans.inertia_)\n",
    "    wcss.append(kmeans.inertia_)  \n",
    "plt.plot(range(1, 11), wcss, linestyle='--', marker='o', color='b')\n",
    "plt.title('O Metodo Elbow')\n",
    "plt.xlabel('Numero de Clusters')\n",
    "plt.ylabel('WSS') #within cluster sum of squares\n",
    "plt.show()"
   ]
  },
  {
   "cell_type": "code",
   "execution_count": 9,
   "metadata": {
    "id": "crrgoQJ5NsPv"
   },
   "outputs": [],
   "source": [
    "# modelo KMeans\n",
    "km = KMeans(n_clusters=4, n_init=12, random_state=1)\n",
    "km.fit(X)\n",
    "clusters = km.labels_"
   ]
  },
  {
   "cell_type": "markdown",
   "metadata": {
    "id": "FTA36T45LJD8"
   },
   "source": [
    "Adicione o grupo sugerido pelo algoritmo à uma nova coluna do Dataset e faça uma \n",
    "análise do centroide dos dados agregados por grupos. Escreva comentários sobre os \n",
    "insights que você obteve com essa análise"
   ]
  },
  {
   "cell_type": "code",
   "execution_count": 20,
   "metadata": {},
   "outputs": [
    {
     "data": {
      "text/html": [
       "<div>\n",
       "<style scoped>\n",
       "    .dataframe tbody tr th:only-of-type {\n",
       "        vertical-align: middle;\n",
       "    }\n",
       "\n",
       "    .dataframe tbody tr th {\n",
       "        vertical-align: top;\n",
       "    }\n",
       "\n",
       "    .dataframe thead th {\n",
       "        text-align: right;\n",
       "    }\n",
       "</style>\n",
       "<table border=\"1\" class=\"dataframe\">\n",
       "  <thead>\n",
       "    <tr style=\"text-align: right;\">\n",
       "      <th></th>\n",
       "      <th>Idade</th>\n",
       "      <th>Educação</th>\n",
       "      <th>Anos de emprego</th>\n",
       "      <th>Renda</th>\n",
       "      <th>Dívida do cartão</th>\n",
       "      <th>Outras dívidas</th>\n",
       "      <th>Inadimplente</th>\n",
       "      <th>Razão débito-renda</th>\n",
       "      <th>Grupo</th>\n",
       "    </tr>\n",
       "  </thead>\n",
       "  <tbody>\n",
       "    <tr>\n",
       "      <th>0</th>\n",
       "      <td>41</td>\n",
       "      <td>2</td>\n",
       "      <td>6</td>\n",
       "      <td>19</td>\n",
       "      <td>0.124</td>\n",
       "      <td>1.073</td>\n",
       "      <td>0.0</td>\n",
       "      <td>6.3</td>\n",
       "      <td>0</td>\n",
       "    </tr>\n",
       "    <tr>\n",
       "      <th>1</th>\n",
       "      <td>47</td>\n",
       "      <td>1</td>\n",
       "      <td>26</td>\n",
       "      <td>100</td>\n",
       "      <td>4.582</td>\n",
       "      <td>8.218</td>\n",
       "      <td>0.0</td>\n",
       "      <td>12.8</td>\n",
       "      <td>1</td>\n",
       "    </tr>\n",
       "    <tr>\n",
       "      <th>2</th>\n",
       "      <td>33</td>\n",
       "      <td>2</td>\n",
       "      <td>10</td>\n",
       "      <td>57</td>\n",
       "      <td>6.111</td>\n",
       "      <td>5.802</td>\n",
       "      <td>1.0</td>\n",
       "      <td>20.9</td>\n",
       "      <td>2</td>\n",
       "    </tr>\n",
       "    <tr>\n",
       "      <th>3</th>\n",
       "      <td>29</td>\n",
       "      <td>2</td>\n",
       "      <td>4</td>\n",
       "      <td>19</td>\n",
       "      <td>0.681</td>\n",
       "      <td>0.516</td>\n",
       "      <td>0.0</td>\n",
       "      <td>6.3</td>\n",
       "      <td>0</td>\n",
       "    </tr>\n",
       "    <tr>\n",
       "      <th>4</th>\n",
       "      <td>47</td>\n",
       "      <td>1</td>\n",
       "      <td>31</td>\n",
       "      <td>253</td>\n",
       "      <td>9.308</td>\n",
       "      <td>8.908</td>\n",
       "      <td>0.0</td>\n",
       "      <td>7.2</td>\n",
       "      <td>3</td>\n",
       "    </tr>\n",
       "  </tbody>\n",
       "</table>\n",
       "</div>"
      ],
      "text/plain": [
       "   Idade  Educação  Anos de emprego  Renda  Dívida do cartão  Outras dívidas  \\\n",
       "0     41         2                6     19             0.124           1.073   \n",
       "1     47         1               26    100             4.582           8.218   \n",
       "2     33         2               10     57             6.111           5.802   \n",
       "3     29         2                4     19             0.681           0.516   \n",
       "4     47         1               31    253             9.308           8.908   \n",
       "\n",
       "   Inadimplente  Razão débito-renda  Grupo  \n",
       "0           0.0                 6.3      0  \n",
       "1           0.0                12.8      1  \n",
       "2           1.0                20.9      2  \n",
       "3           0.0                 6.3      0  \n",
       "4           0.0                 7.2      3  "
      ]
     },
     "execution_count": 20,
     "metadata": {},
     "output_type": "execute_result"
    }
   ],
   "source": [
    "df['Grupo'] = clusters\n",
    "\n",
    "df.head()"
   ]
  },
  {
   "cell_type": "code",
   "execution_count": 17,
   "metadata": {},
   "outputs": [
    {
     "data": {
      "text/plain": [
       "<AxesSubplot:xlabel='Grupo', ylabel='count'>"
      ]
     },
     "execution_count": 17,
     "metadata": {},
     "output_type": "execute_result"
    },
    {
     "data": {
      "image/png": "[encoded data removed]",
      "text/plain": [
       "<Figure size 432x288 with 1 Axes>"
      ]
     },
     "metadata": {
      "needs_background": "light"
     },
     "output_type": "display_data"
    }
   ],
   "source": [
    "# quantidade de registros em cada grupo\n",
    "sns.countplot(data=df,x='Grupo')"
   ]
  },
  {
   "cell_type": "code",
   "execution_count": 13,
   "metadata": {
    "colab": {
     "base_uri": "https://localhost:8080/",
     "height": 203
    },
    "id": "JJeSU4GwLQCd",
    "outputId": "74c068dd-21c4-458a-e4f8-ffa9c69d727e",
    "scrolled": false
   },
   "outputs": [
    {
     "data": {
      "text/html": [
       "<style  type=\"text/css\" >\n",
       "#T_68e67898_4e4e_11ec_8490_9883896f87a5row2_col6,#T_68e67898_4e4e_11ec_8490_9883896f87a5row3_col0,#T_68e67898_4e4e_11ec_8490_9883896f87a5row3_col1,#T_68e67898_4e4e_11ec_8490_9883896f87a5row3_col2,#T_68e67898_4e4e_11ec_8490_9883896f87a5row3_col3,#T_68e67898_4e4e_11ec_8490_9883896f87a5row3_col4,#T_68e67898_4e4e_11ec_8490_9883896f87a5row3_col5,#T_68e67898_4e4e_11ec_8490_9883896f87a5row3_col7{\n",
       "            background-color:  yellow;\n",
       "        }</style><table id=\"T_68e67898_4e4e_11ec_8490_9883896f87a5\" ><thead>    <tr>        <th class=\"blank level0\" ></th>        <th class=\"col_heading level0 col0\" >Idade</th>        <th class=\"col_heading level0 col1\" >Educação</th>        <th class=\"col_heading level0 col2\" >Anos de emprego</th>        <th class=\"col_heading level0 col3\" >Renda</th>        <th class=\"col_heading level0 col4\" >Dívida do cartão</th>        <th class=\"col_heading level0 col5\" >Outras dívidas</th>        <th class=\"col_heading level0 col6\" >Inadimplente</th>        <th class=\"col_heading level0 col7\" >Razão débito-renda</th>    </tr>    <tr>        <th class=\"index_name level0\" >Grupo</th>        <th class=\"blank\" ></th>        <th class=\"blank\" ></th>        <th class=\"blank\" ></th>        <th class=\"blank\" ></th>        <th class=\"blank\" ></th>        <th class=\"blank\" ></th>        <th class=\"blank\" ></th>        <th class=\"blank\" ></th>    </tr></thead><tbody>\n",
       "                <tr>\n",
       "                        <th id=\"T_68e67898_4e4e_11ec_8490_9883896f87a5level0_row0\" class=\"row_heading level0 row0\" >0</th>\n",
       "                        <td id=\"T_68e67898_4e4e_11ec_8490_9883896f87a5row0_col0\" class=\"data row0 col0\" >32.133489</td>\n",
       "                        <td id=\"T_68e67898_4e4e_11ec_8490_9883896f87a5row0_col1\" class=\"data row0 col1\" >1.648712</td>\n",
       "                        <td id=\"T_68e67898_4e4e_11ec_8490_9883896f87a5row0_col2\" class=\"data row0 col2\" >5.784543</td>\n",
       "                        <td id=\"T_68e67898_4e4e_11ec_8490_9883896f87a5row0_col3\" class=\"data row0 col3\" >31.126464</td>\n",
       "                        <td id=\"T_68e67898_4e4e_11ec_8490_9883896f87a5row0_col4\" class=\"data row0 col4\" >0.742330</td>\n",
       "                        <td id=\"T_68e67898_4e4e_11ec_8490_9883896f87a5row0_col5\" class=\"data row0 col5\" >1.614689</td>\n",
       "                        <td id=\"T_68e67898_4e4e_11ec_8490_9883896f87a5row0_col6\" class=\"data row0 col6\" >0.000000</td>\n",
       "                        <td id=\"T_68e67898_4e4e_11ec_8490_9883896f87a5row0_col7\" class=\"data row0 col7\" >7.911710</td>\n",
       "            </tr>\n",
       "            <tr>\n",
       "                        <th id=\"T_68e67898_4e4e_11ec_8490_9883896f87a5level0_row1\" class=\"row_heading level0 row1\" >1</th>\n",
       "                        <td id=\"T_68e67898_4e4e_11ec_8490_9883896f87a5row1_col0\" class=\"data row1 col0\" >41.686636</td>\n",
       "                        <td id=\"T_68e67898_4e4e_11ec_8490_9883896f87a5row1_col1\" class=\"data row1 col1\" >1.594470</td>\n",
       "                        <td id=\"T_68e67898_4e4e_11ec_8490_9883896f87a5row1_col2\" class=\"data row1 col2\" >15.986175</td>\n",
       "                        <td id=\"T_68e67898_4e4e_11ec_8490_9883896f87a5row1_col3\" class=\"data row1 col3\" >72.138249</td>\n",
       "                        <td id=\"T_68e67898_4e4e_11ec_8490_9883896f87a5row1_col4\" class=\"data row1 col4\" >1.966567</td>\n",
       "                        <td id=\"T_68e67898_4e4e_11ec_8490_9883896f87a5row1_col5\" class=\"data row1 col5\" >4.309968</td>\n",
       "                        <td id=\"T_68e67898_4e4e_11ec_8490_9883896f87a5row1_col6\" class=\"data row1 col6\" >0.009217</td>\n",
       "                        <td id=\"T_68e67898_4e4e_11ec_8490_9883896f87a5row1_col7\" class=\"data row1 col7\" >9.906452</td>\n",
       "            </tr>\n",
       "            <tr>\n",
       "                        <th id=\"T_68e67898_4e4e_11ec_8490_9883896f87a5level0_row2\" class=\"row_heading level0 row2\" >2</th>\n",
       "                        <td id=\"T_68e67898_4e4e_11ec_8490_9883896f87a5row2_col0\" class=\"data row2 col0\" >31.812121</td>\n",
       "                        <td id=\"T_68e67898_4e4e_11ec_8490_9883896f87a5row2_col1\" class=\"data row2 col1\" >1.878788</td>\n",
       "                        <td id=\"T_68e67898_4e4e_11ec_8490_9883896f87a5row2_col2\" class=\"data row2 col2\" >3.933333</td>\n",
       "                        <td id=\"T_68e67898_4e4e_11ec_8490_9883896f87a5row2_col3\" class=\"data row2 col3\" >31.442424</td>\n",
       "                        <td id=\"T_68e67898_4e4e_11ec_8490_9883896f87a5row2_col4\" class=\"data row2 col4\" >1.597758</td>\n",
       "                        <td id=\"T_68e67898_4e4e_11ec_8490_9883896f87a5row2_col5\" class=\"data row2 col5\" >2.793218</td>\n",
       "                        <td id=\"T_68e67898_4e4e_11ec_8490_9883896f87a5row2_col6\" class=\"data row2 col6\" >0.981818</td>\n",
       "                        <td id=\"T_68e67898_4e4e_11ec_8490_9883896f87a5row2_col7\" class=\"data row2 col7\" >14.041818</td>\n",
       "            </tr>\n",
       "            <tr>\n",
       "                        <th id=\"T_68e67898_4e4e_11ec_8490_9883896f87a5level0_row3\" class=\"row_heading level0 row3\" >3</th>\n",
       "                        <td id=\"T_68e67898_4e4e_11ec_8490_9883896f87a5row3_col0\" class=\"data row3 col0\" >42.902439</td>\n",
       "                        <td id=\"T_68e67898_4e4e_11ec_8490_9883896f87a5row3_col1\" class=\"data row3 col1\" >2.292683</td>\n",
       "                        <td id=\"T_68e67898_4e4e_11ec_8490_9883896f87a5row3_col2\" class=\"data row3 col2\" >16.902439</td>\n",
       "                        <td id=\"T_68e67898_4e4e_11ec_8490_9883896f87a5row3_col3\" class=\"data row3 col3\" >135.146341</td>\n",
       "                        <td id=\"T_68e67898_4e4e_11ec_8490_9883896f87a5row3_col4\" class=\"data row3 col4\" >8.120659</td>\n",
       "                        <td id=\"T_68e67898_4e4e_11ec_8490_9883896f87a5row3_col5\" class=\"data row3 col5\" >12.959537</td>\n",
       "                        <td id=\"T_68e67898_4e4e_11ec_8490_9883896f87a5row3_col6\" class=\"data row3 col6\" >0.463415</td>\n",
       "                        <td id=\"T_68e67898_4e4e_11ec_8490_9883896f87a5row3_col7\" class=\"data row3 col7\" >19.536585</td>\n",
       "            </tr>\n",
       "    </tbody></table>"
      ],
      "text/plain": [
       "<pandas.io.formats.style.Styler at 0x28be3c62a90>"
      ]
     },
     "execution_count": 13,
     "metadata": {},
     "output_type": "execute_result"
    }
   ],
   "source": [
    "# agregando pela média\n",
    "df.groupby(['Grupo']).agg('mean').style.highlight_max()"
   ]
  },
  {
   "cell_type": "markdown",
   "metadata": {},
   "source": [
    "**Observações:** O grupo 3 concentra pessoas mais velhas, experientes (mercado de trabalho) e com mais anos de educação, além de possuir a maior renda. Entretanto, também conta com as maiores dívidas e quase metade dos indivíduos são inadimplentes.\n",
    "\n",
    "O grupo 1 possui um bom nível de renda e baixíssimo nível de inadimplência, com uma razão débito-renda estável, resultando em um grupo favorável para se reter."
   ]
  },
  {
   "cell_type": "code",
   "execution_count": 36,
   "metadata": {},
   "outputs": [
    {
     "data": {
      "text/html": [
       "<style  type=\"text/css\" >\n",
       "#T_9e063dba_4e54_11ec_aaa3_9883896f87a5row1_col0,#T_9e063dba_4e54_11ec_aaa3_9883896f87a5row1_col2,#T_9e063dba_4e54_11ec_aaa3_9883896f87a5row2_col1,#T_9e063dba_4e54_11ec_aaa3_9883896f87a5row2_col6,#T_9e063dba_4e54_11ec_aaa3_9883896f87a5row3_col0,#T_9e063dba_4e54_11ec_aaa3_9883896f87a5row3_col1,#T_9e063dba_4e54_11ec_aaa3_9883896f87a5row3_col2,#T_9e063dba_4e54_11ec_aaa3_9883896f87a5row3_col3,#T_9e063dba_4e54_11ec_aaa3_9883896f87a5row3_col4,#T_9e063dba_4e54_11ec_aaa3_9883896f87a5row3_col5,#T_9e063dba_4e54_11ec_aaa3_9883896f87a5row3_col7{\n",
       "            background-color:  yellow;\n",
       "        }</style><table id=\"T_9e063dba_4e54_11ec_aaa3_9883896f87a5\" ><thead>    <tr>        <th class=\"blank level0\" ></th>        <th class=\"col_heading level0 col0\" >Idade</th>        <th class=\"col_heading level0 col1\" >Educação</th>        <th class=\"col_heading level0 col2\" >Anos de emprego</th>        <th class=\"col_heading level0 col3\" >Renda</th>        <th class=\"col_heading level0 col4\" >Dívida do cartão</th>        <th class=\"col_heading level0 col5\" >Outras dívidas</th>        <th class=\"col_heading level0 col6\" >Inadimplente</th>        <th class=\"col_heading level0 col7\" >Razão débito-renda</th>    </tr>    <tr>        <th class=\"index_name level0\" >Grupo</th>        <th class=\"blank\" ></th>        <th class=\"blank\" ></th>        <th class=\"blank\" ></th>        <th class=\"blank\" ></th>        <th class=\"blank\" ></th>        <th class=\"blank\" ></th>        <th class=\"blank\" ></th>        <th class=\"blank\" ></th>    </tr></thead><tbody>\n",
       "                <tr>\n",
       "                        <th id=\"T_9e063dba_4e54_11ec_aaa3_9883896f87a5level0_row0\" class=\"row_heading level0 row0\" >0</th>\n",
       "                        <td id=\"T_9e063dba_4e54_11ec_aaa3_9883896f87a5row0_col0\" class=\"data row0 col0\" >31</td>\n",
       "                        <td id=\"T_9e063dba_4e54_11ec_aaa3_9883896f87a5row0_col1\" class=\"data row0 col1\" >1</td>\n",
       "                        <td id=\"T_9e063dba_4e54_11ec_aaa3_9883896f87a5row0_col2\" class=\"data row0 col2\" >5</td>\n",
       "                        <td id=\"T_9e063dba_4e54_11ec_aaa3_9883896f87a5row0_col3\" class=\"data row0 col3\" >28</td>\n",
       "                        <td id=\"T_9e063dba_4e54_11ec_aaa3_9883896f87a5row0_col4\" class=\"data row0 col4\" >0.543000</td>\n",
       "                        <td id=\"T_9e063dba_4e54_11ec_aaa3_9883896f87a5row0_col5\" class=\"data row0 col5\" >1.284000</td>\n",
       "                        <td id=\"T_9e063dba_4e54_11ec_aaa3_9883896f87a5row0_col6\" class=\"data row0 col6\" >0.000000</td>\n",
       "                        <td id=\"T_9e063dba_4e54_11ec_aaa3_9883896f87a5row0_col7\" class=\"data row0 col7\" >6.900000</td>\n",
       "            </tr>\n",
       "            <tr>\n",
       "                        <th id=\"T_9e063dba_4e54_11ec_aaa3_9883896f87a5level0_row1\" class=\"row_heading level0 row1\" >1</th>\n",
       "                        <td id=\"T_9e063dba_4e54_11ec_aaa3_9883896f87a5row1_col0\" class=\"data row1 col0\" >41</td>\n",
       "                        <td id=\"T_9e063dba_4e54_11ec_aaa3_9883896f87a5row1_col1\" class=\"data row1 col1\" >1</td>\n",
       "                        <td id=\"T_9e063dba_4e54_11ec_aaa3_9883896f87a5row1_col2\" class=\"data row1 col2\" >16</td>\n",
       "                        <td id=\"T_9e063dba_4e54_11ec_aaa3_9883896f87a5row1_col3\" class=\"data row1 col3\" >64</td>\n",
       "                        <td id=\"T_9e063dba_4e54_11ec_aaa3_9883896f87a5row1_col4\" class=\"data row1 col4\" >1.565000</td>\n",
       "                        <td id=\"T_9e063dba_4e54_11ec_aaa3_9883896f87a5row1_col5\" class=\"data row1 col5\" >3.786000</td>\n",
       "                        <td id=\"T_9e063dba_4e54_11ec_aaa3_9883896f87a5row1_col6\" class=\"data row1 col6\" >0.000000</td>\n",
       "                        <td id=\"T_9e063dba_4e54_11ec_aaa3_9883896f87a5row1_col7\" class=\"data row1 col7\" >9.100000</td>\n",
       "            </tr>\n",
       "            <tr>\n",
       "                        <th id=\"T_9e063dba_4e54_11ec_aaa3_9883896f87a5level0_row2\" class=\"row_heading level0 row2\" >2</th>\n",
       "                        <td id=\"T_9e063dba_4e54_11ec_aaa3_9883896f87a5row2_col0\" class=\"data row2 col0\" >29</td>\n",
       "                        <td id=\"T_9e063dba_4e54_11ec_aaa3_9883896f87a5row2_col1\" class=\"data row2 col1\" >2</td>\n",
       "                        <td id=\"T_9e063dba_4e54_11ec_aaa3_9883896f87a5row2_col2\" class=\"data row2 col2\" >3</td>\n",
       "                        <td id=\"T_9e063dba_4e54_11ec_aaa3_9883896f87a5row2_col3\" class=\"data row2 col3\" >27</td>\n",
       "                        <td id=\"T_9e063dba_4e54_11ec_aaa3_9883896f87a5row2_col4\" class=\"data row2 col4\" >1.209000</td>\n",
       "                        <td id=\"T_9e063dba_4e54_11ec_aaa3_9883896f87a5row2_col5\" class=\"data row2 col5\" >2.321000</td>\n",
       "                        <td id=\"T_9e063dba_4e54_11ec_aaa3_9883896f87a5row2_col6\" class=\"data row2 col6\" >1.000000</td>\n",
       "                        <td id=\"T_9e063dba_4e54_11ec_aaa3_9883896f87a5row2_col7\" class=\"data row2 col7\" >13.200000</td>\n",
       "            </tr>\n",
       "            <tr>\n",
       "                        <th id=\"T_9e063dba_4e54_11ec_aaa3_9883896f87a5level0_row3\" class=\"row_heading level0 row3\" >3</th>\n",
       "                        <td id=\"T_9e063dba_4e54_11ec_aaa3_9883896f87a5row3_col0\" class=\"data row3 col0\" >41</td>\n",
       "                        <td id=\"T_9e063dba_4e54_11ec_aaa3_9883896f87a5row3_col1\" class=\"data row3 col1\" >2</td>\n",
       "                        <td id=\"T_9e063dba_4e54_11ec_aaa3_9883896f87a5row3_col2\" class=\"data row3 col2\" >16</td>\n",
       "                        <td id=\"T_9e063dba_4e54_11ec_aaa3_9883896f87a5row3_col3\" class=\"data row3 col3\" >118</td>\n",
       "                        <td id=\"T_9e063dba_4e54_11ec_aaa3_9883896f87a5row3_col4\" class=\"data row3 col4\" >7.387000</td>\n",
       "                        <td id=\"T_9e063dba_4e54_11ec_aaa3_9883896f87a5row3_col5\" class=\"data row3 col5\" >12.076000</td>\n",
       "                        <td id=\"T_9e063dba_4e54_11ec_aaa3_9883896f87a5row3_col6\" class=\"data row3 col6\" >0.000000</td>\n",
       "                        <td id=\"T_9e063dba_4e54_11ec_aaa3_9883896f87a5row3_col7\" class=\"data row3 col7\" >17.600000</td>\n",
       "            </tr>\n",
       "    </tbody></table>"
      ],
      "text/plain": [
       "<pandas.io.formats.style.Styler at 0x28bebe70c50>"
      ]
     },
     "execution_count": 36,
     "metadata": {},
     "output_type": "execute_result"
    }
   ],
   "source": [
    "# agregando pela mediana\n",
    "df.groupby(['Grupo']).agg(statistics.median).style.highlight_max()"
   ]
  },
  {
   "cell_type": "markdown",
   "metadata": {},
   "source": [
    "**Observações:** a maioria do grupo 2 são inadimplentes"
   ]
  },
  {
   "cell_type": "code",
   "execution_count": 43,
   "metadata": {},
   "outputs": [
    {
     "data": {
      "text/plain": [
       "array([1, 0, 3, 2])"
      ]
     },
     "execution_count": 43,
     "metadata": {},
     "output_type": "execute_result"
    }
   ],
   "source": [
    "# ordem de importância dos grupos\n",
    "df.sort_values(['Inadimplente', 'Razão débito-renda'])['Grupo'].unique()"
   ]
  },
  {
   "cell_type": "code",
   "execution_count": 53,
   "metadata": {},
   "outputs": [
    {
     "data": {
      "text/html": [
       "<style  type=\"text/css\" >\n",
       "#T_b6e22c34_4e56_11ec_9bfd_9883896f87a5row0_col0,#T_b6e22c34_4e56_11ec_9bfd_9883896f87a5row0_col1,#T_b6e22c34_4e56_11ec_9bfd_9883896f87a5row0_col7,#T_b6e22c34_4e56_11ec_9bfd_9883896f87a5row1_col2,#T_b6e22c34_4e56_11ec_9bfd_9883896f87a5row1_col3,#T_b6e22c34_4e56_11ec_9bfd_9883896f87a5row1_col4,#T_b6e22c34_4e56_11ec_9bfd_9883896f87a5row1_col5,#T_b6e22c34_4e56_11ec_9bfd_9883896f87a5row2_col6{\n",
       "            background-color:  yellow;\n",
       "        }</style><table id=\"T_b6e22c34_4e56_11ec_9bfd_9883896f87a5\" ><thead>    <tr>        <th class=\"blank level0\" ></th>        <th class=\"col_heading level0 col0\" >Idade</th>        <th class=\"col_heading level0 col1\" >Educação</th>        <th class=\"col_heading level0 col2\" >Anos de emprego</th>        <th class=\"col_heading level0 col3\" >Renda</th>        <th class=\"col_heading level0 col4\" >Dívida do cartão</th>        <th class=\"col_heading level0 col5\" >Outras dívidas</th>        <th class=\"col_heading level0 col6\" >Inadimplente</th>        <th class=\"col_heading level0 col7\" >Razão débito-renda</th>    </tr>    <tr>        <th class=\"index_name level0\" >Grupo</th>        <th class=\"blank\" ></th>        <th class=\"blank\" ></th>        <th class=\"blank\" ></th>        <th class=\"blank\" ></th>        <th class=\"blank\" ></th>        <th class=\"blank\" ></th>        <th class=\"blank\" ></th>        <th class=\"blank\" ></th>    </tr></thead><tbody>\n",
       "                <tr>\n",
       "                        <th id=\"T_b6e22c34_4e56_11ec_9bfd_9883896f87a5level0_row0\" class=\"row_heading level0 row0\" >0</th>\n",
       "                        <td id=\"T_b6e22c34_4e56_11ec_9bfd_9883896f87a5row0_col0\" class=\"data row0 col0\" >13721</td>\n",
       "                        <td id=\"T_b6e22c34_4e56_11ec_9bfd_9883896f87a5row0_col1\" class=\"data row0 col1\" >704</td>\n",
       "                        <td id=\"T_b6e22c34_4e56_11ec_9bfd_9883896f87a5row0_col2\" class=\"data row0 col2\" >2470</td>\n",
       "                        <td id=\"T_b6e22c34_4e56_11ec_9bfd_9883896f87a5row0_col3\" class=\"data row0 col3\" >13291</td>\n",
       "                        <td id=\"T_b6e22c34_4e56_11ec_9bfd_9883896f87a5row0_col4\" class=\"data row0 col4\" >316.975000</td>\n",
       "                        <td id=\"T_b6e22c34_4e56_11ec_9bfd_9883896f87a5row0_col5\" class=\"data row0 col5\" >689.472000</td>\n",
       "                        <td id=\"T_b6e22c34_4e56_11ec_9bfd_9883896f87a5row0_col6\" class=\"data row0 col6\" >0.000000</td>\n",
       "                        <td id=\"T_b6e22c34_4e56_11ec_9bfd_9883896f87a5row0_col7\" class=\"data row0 col7\" >3378.300000</td>\n",
       "            </tr>\n",
       "            <tr>\n",
       "                        <th id=\"T_b6e22c34_4e56_11ec_9bfd_9883896f87a5level0_row1\" class=\"row_heading level0 row1\" >1</th>\n",
       "                        <td id=\"T_b6e22c34_4e56_11ec_9bfd_9883896f87a5row1_col0\" class=\"data row1 col0\" >9046</td>\n",
       "                        <td id=\"T_b6e22c34_4e56_11ec_9bfd_9883896f87a5row1_col1\" class=\"data row1 col1\" >346</td>\n",
       "                        <td id=\"T_b6e22c34_4e56_11ec_9bfd_9883896f87a5row1_col2\" class=\"data row1 col2\" >3469</td>\n",
       "                        <td id=\"T_b6e22c34_4e56_11ec_9bfd_9883896f87a5row1_col3\" class=\"data row1 col3\" >15654</td>\n",
       "                        <td id=\"T_b6e22c34_4e56_11ec_9bfd_9883896f87a5row1_col4\" class=\"data row1 col4\" >426.745000</td>\n",
       "                        <td id=\"T_b6e22c34_4e56_11ec_9bfd_9883896f87a5row1_col5\" class=\"data row1 col5\" >935.263000</td>\n",
       "                        <td id=\"T_b6e22c34_4e56_11ec_9bfd_9883896f87a5row1_col6\" class=\"data row1 col6\" >2.000000</td>\n",
       "                        <td id=\"T_b6e22c34_4e56_11ec_9bfd_9883896f87a5row1_col7\" class=\"data row1 col7\" >2149.700000</td>\n",
       "            </tr>\n",
       "            <tr>\n",
       "                        <th id=\"T_b6e22c34_4e56_11ec_9bfd_9883896f87a5level0_row2\" class=\"row_heading level0 row2\" >2</th>\n",
       "                        <td id=\"T_b6e22c34_4e56_11ec_9bfd_9883896f87a5row2_col0\" class=\"data row2 col0\" >5249</td>\n",
       "                        <td id=\"T_b6e22c34_4e56_11ec_9bfd_9883896f87a5row2_col1\" class=\"data row2 col1\" >310</td>\n",
       "                        <td id=\"T_b6e22c34_4e56_11ec_9bfd_9883896f87a5row2_col2\" class=\"data row2 col2\" >649</td>\n",
       "                        <td id=\"T_b6e22c34_4e56_11ec_9bfd_9883896f87a5row2_col3\" class=\"data row2 col3\" >5188</td>\n",
       "                        <td id=\"T_b6e22c34_4e56_11ec_9bfd_9883896f87a5row2_col4\" class=\"data row2 col4\" >263.630000</td>\n",
       "                        <td id=\"T_b6e22c34_4e56_11ec_9bfd_9883896f87a5row2_col5\" class=\"data row2 col5\" >460.881000</td>\n",
       "                        <td id=\"T_b6e22c34_4e56_11ec_9bfd_9883896f87a5row2_col6\" class=\"data row2 col6\" >162.000000</td>\n",
       "                        <td id=\"T_b6e22c34_4e56_11ec_9bfd_9883896f87a5row2_col7\" class=\"data row2 col7\" >2316.900000</td>\n",
       "            </tr>\n",
       "            <tr>\n",
       "                        <th id=\"T_b6e22c34_4e56_11ec_9bfd_9883896f87a5level0_row3\" class=\"row_heading level0 row3\" >3</th>\n",
       "                        <td id=\"T_b6e22c34_4e56_11ec_9bfd_9883896f87a5row3_col0\" class=\"data row3 col0\" >1759</td>\n",
       "                        <td id=\"T_b6e22c34_4e56_11ec_9bfd_9883896f87a5row3_col1\" class=\"data row3 col1\" >94</td>\n",
       "                        <td id=\"T_b6e22c34_4e56_11ec_9bfd_9883896f87a5row3_col2\" class=\"data row3 col2\" >693</td>\n",
       "                        <td id=\"T_b6e22c34_4e56_11ec_9bfd_9883896f87a5row3_col3\" class=\"data row3 col3\" >5541</td>\n",
       "                        <td id=\"T_b6e22c34_4e56_11ec_9bfd_9883896f87a5row3_col4\" class=\"data row3 col4\" >332.947000</td>\n",
       "                        <td id=\"T_b6e22c34_4e56_11ec_9bfd_9883896f87a5row3_col5\" class=\"data row3 col5\" >531.341000</td>\n",
       "                        <td id=\"T_b6e22c34_4e56_11ec_9bfd_9883896f87a5row3_col6\" class=\"data row3 col6\" >19.000000</td>\n",
       "                        <td id=\"T_b6e22c34_4e56_11ec_9bfd_9883896f87a5row3_col7\" class=\"data row3 col7\" >801.000000</td>\n",
       "            </tr>\n",
       "    </tbody></table>"
      ],
      "text/plain": [
       "<pandas.io.formats.style.Styler at 0x28beef99fd0>"
      ]
     },
     "execution_count": 53,
     "metadata": {},
     "output_type": "execute_result"
    }
   ],
   "source": [
    "df.groupby(['Grupo']).sum().style.highlight_max()"
   ]
  }
 ],
 "metadata": {
  "colab": {
   "name": "Untitled1.ipynb",
   "provenance": []
  },
  "kernelspec": {
   "display_name": "Python 3 (ipykernel)",
   "language": "python",
   "name": "python3"
  },
  "language_info": {
   "codemirror_mode": {
    "name": "ipython",
    "version": 3
   },
   "file_extension": ".py",
   "mimetype": "text/x-python",
   "name": "python",
   "nbconvert_exporter": "python",
   "pygments_lexer": "ipython3",
   "version": "3.10.0"
  }
 },
 "nbformat": 4,
 "nbformat_minor": 1
}
